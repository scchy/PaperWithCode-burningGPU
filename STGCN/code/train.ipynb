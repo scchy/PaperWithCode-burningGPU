{
 "cells": [
  {
   "attachments": {},
   "cell_type": "markdown",
   "metadata": {},
   "source": [
    "# STGCN"
   ]
  },
  {
   "cell_type": "code",
   "execution_count": 1,
   "metadata": {},
   "outputs": [
    {
     "name": "stderr",
     "output_type": "stream",
     "text": [
      "/home/scc/anaconda3/envs/stgcn_wave/lib/python3.8/site-packages/tqdm/auto.py:21: TqdmWarning: IProgress not found. Please update jupyter and ipywidgets. See https://ipywidgets.readthedocs.io/en/stable/user_install.html\n",
      "  from .autonotebook import tqdm as notebook_tqdm\n"
     ]
    }
   ],
   "source": [
    "from tqdm.auto import tqdm\n",
    "import numpy as np\n",
    "import pandas as pd\n",
    "import scipy.sparse as sp\n",
    "import torch\n",
    "import torch.nn as nn\n",
    "from load_data import load_data, data_transform\n",
    "from model import *\n",
    "from sensors2graph import get_adjacency_matrix\n",
    "from sklearn.preprocessing import StandardScaler\n",
    "from utils import evaluate_model, evaluate_metric, args_func, device\n",
    "import dgl"
   ]
  },
  {
   "cell_type": "code",
   "execution_count": 2,
   "metadata": {},
   "outputs": [],
   "source": [
    "args = args_func()\n",
    "\n",
    "with open(args.sensorsfilepath) as f:\n",
    "    sensor_ids = f.read().strip().split(\",\")"
   ]
  },
  {
   "attachments": {},
   "cell_type": "markdown",
   "metadata": {},
   "source": [
    "## data prepare"
   ]
  },
  {
   "cell_type": "code",
   "execution_count": 4,
   "metadata": {},
   "outputs": [],
   "source": [
    "distance_df = pd.read_csv(args.disfilepath, dtype={\"from\": \"str\", \"to\": \"str\"})\n",
    "adj_mx = get_adjacency_matrix(distance_df, sensor_ids)\n",
    "sp_mx = sp.coo_matrix(adj_mx)\n",
    "# use dgl generate graph\n",
    "G = dgl.from_scipy(sp_mx)"
   ]
  },
  {
   "cell_type": "code",
   "execution_count": null,
   "metadata": {},
   "outputs": [],
   "source": [
    "df = pd.read_hdf(args.tsfilepath)\n",
    "num_samples, num_nodes = df.shape\n",
    "len_val = round(num_samples * 0.1)\n",
    "len_train = round(num_samples * 0.7)\n",
    "load_data(args.tsfilepath, len_train, len_val)"
   ]
  },
  {
   "cell_type": "code",
   "execution_count": null,
   "metadata": {},
   "outputs": [],
   "source": []
  },
  {
   "cell_type": "code",
   "execution_count": null,
   "metadata": {},
   "outputs": [],
   "source": []
  }
 ],
 "metadata": {
  "kernelspec": {
   "display_name": "stgcn_wave",
   "language": "python",
   "name": "python3"
  },
  "language_info": {
   "codemirror_mode": {
    "name": "ipython",
    "version": 3
   },
   "file_extension": ".py",
   "mimetype": "text/x-python",
   "name": "python",
   "nbconvert_exporter": "python",
   "pygments_lexer": "ipython3",
   "version": "3.8.16"
  },
  "orig_nbformat": 4
 },
 "nbformat": 4,
 "nbformat_minor": 2
}
