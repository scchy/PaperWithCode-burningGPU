{
 "cells": [
  {
   "attachments": {},
   "cell_type": "markdown",
   "metadata": {},
   "source": [
    "# STGCN"
   ]
  },
  {
   "cell_type": "code",
   "execution_count": 1,
   "metadata": {},
   "outputs": [],
   "source": [
    "from tqdm.auto import tqdm\n",
    "import numpy as np\n",
    "import pandas as pd\n",
    "import torch\n",
    "import torch.nn as nn\n",
    "from torch.utils.data import DataLoader, TensorDataset\n",
    "from load_data import data_split, data_transform\n",
    "from model import STGCN_WAVE\n",
    "from sensors2graph import get_adjacency_matrix\n",
    "from sklearn.preprocessing import StandardScaler\n",
    "from utils import evaluate_model, evaluate_metric, args_func, device\n",
    "import seaborn as sns\n",
    "import matplotlib.pyplot as plt\n"
   ]
  },
  {
   "cell_type": "code",
   "execution_count": 2,
   "metadata": {},
   "outputs": [],
   "source": [
    "args = args_func()\n",
    "\n",
    "with open(args.sensorsfilepath) as f:\n",
    "    sensor_ids = f.read().strip().split(\",\")"
   ]
  },
  {
   "attachments": {},
   "cell_type": "markdown",
   "metadata": {},
   "source": [
    "## 1. data prepare"
   ]
  },
  {
   "attachments": {},
   "cell_type": "markdown",
   "metadata": {},
   "source": [
    "### 1.1 Graph"
   ]
  },
  {
   "cell_type": "code",
   "execution_count": 3,
   "metadata": {},
   "outputs": [
    {
     "name": "stdout",
     "output_type": "stream",
     "text": [
      "file=./data/sensor_graph/distances_la_2012.csv\n"
     ]
    },
    {
     "data": {
      "text/html": [
       "<div>\n",
       "<style scoped>\n",
       "    .dataframe tbody tr th:only-of-type {\n",
       "        vertical-align: middle;\n",
       "    }\n",
       "\n",
       "    .dataframe tbody tr th {\n",
       "        vertical-align: top;\n",
       "    }\n",
       "\n",
       "    .dataframe thead th {\n",
       "        text-align: right;\n",
       "    }\n",
       "</style>\n",
       "<table border=\"1\" class=\"dataframe\">\n",
       "  <thead>\n",
       "    <tr style=\"text-align: right;\">\n",
       "      <th></th>\n",
       "      <th>from</th>\n",
       "      <th>to</th>\n",
       "      <th>cost</th>\n",
       "    </tr>\n",
       "  </thead>\n",
       "  <tbody>\n",
       "    <tr>\n",
       "      <th>0</th>\n",
       "      <td>1201054</td>\n",
       "      <td>1201054</td>\n",
       "      <td>0.0</td>\n",
       "    </tr>\n",
       "    <tr>\n",
       "      <th>1</th>\n",
       "      <td>1201054</td>\n",
       "      <td>1201066</td>\n",
       "      <td>2610.9</td>\n",
       "    </tr>\n",
       "    <tr>\n",
       "      <th>2</th>\n",
       "      <td>1201054</td>\n",
       "      <td>1201076</td>\n",
       "      <td>2822.7</td>\n",
       "    </tr>\n",
       "    <tr>\n",
       "      <th>3</th>\n",
       "      <td>1201054</td>\n",
       "      <td>1201087</td>\n",
       "      <td>2911.5</td>\n",
       "    </tr>\n",
       "    <tr>\n",
       "      <th>4</th>\n",
       "      <td>1201054</td>\n",
       "      <td>1201100</td>\n",
       "      <td>7160.1</td>\n",
       "    </tr>\n",
       "  </tbody>\n",
       "</table>\n",
       "</div>"
      ],
      "text/plain": [
       "      from       to    cost\n",
       "0  1201054  1201054     0.0\n",
       "1  1201054  1201066  2610.9\n",
       "2  1201054  1201076  2822.7\n",
       "3  1201054  1201087  2911.5\n",
       "4  1201054  1201100  7160.1"
      ]
     },
     "metadata": {},
     "output_type": "display_data"
    },
    {
     "name": "stdout",
     "output_type": "stream",
     "text": [
      "Adj Matrix:\n",
      " [[1.        0.        0.        ... 0.        0.        0.       ]\n",
      " [0.        1.        0.3909554 ... 0.        0.        0.       ]\n",
      " [0.        0.7174379 1.        ... 0.        0.        0.       ]\n",
      " ...\n",
      " [0.        0.        0.        ... 1.        0.        0.       ]\n",
      " [0.        0.        0.        ... 0.        1.        0.       ]\n",
      " [0.        0.        0.        ... 0.        0.        1.       ]]\n"
     ]
    }
   ],
   "source": [
    "print(f\"file={args.disfilepath}\")\n",
    "distance_df = pd.read_csv(args.disfilepath, dtype={\"from\": \"str\", \"to\": \"str\"})\n",
    "display(distance_df.head())\n",
    "adj_mx = get_adjacency_matrix(distance_df, sensor_ids)\n",
    "print('Adj Matrix:\\n', adj_mx)"
   ]
  },
  {
   "cell_type": "code",
   "execution_count": 4,
   "metadata": {},
   "outputs": [
    {
     "data": {
      "image/png": "[encoded data removed]",
      "text/plain": [
       "<Figure size 1000x800 with 2 Axes>"
      ]
     },
     "metadata": {},
     "output_type": "display_data"
    }
   ],
   "source": [
    "\n",
    "# plot \n",
    "mask = np.zeros_like(adj_mx, dtype=bool)\n",
    "mask[np.triu_indices_from(mask)] = True\n",
    "\n",
    "plt.figure(figsize=(10, 8))\n",
    "sns.heatmap(adj_mx, cmap=sns.diverging_palette(20, 220, n=200), center=0)\n",
    "plt.xticks([])\n",
    "plt.yticks([])\n",
    "plt.show()"
   ]
  },
  {
   "attachments": {},
   "cell_type": "markdown",
   "metadata": {},
   "source": [
    "### 1.2 Time Series data"
   ]
  },
  {
   "cell_type": "code",
   "execution_count": 5,
   "metadata": {},
   "outputs": [
    {
     "name": "stdout",
     "output_type": "stream",
     "text": [
      "file=./data/metr-la.h5\n"
     ]
    },
    {
     "data": {
      "text/html": [
       "<div>\n",
       "<style scoped>\n",
       "    .dataframe tbody tr th:only-of-type {\n",
       "        vertical-align: middle;\n",
       "    }\n",
       "\n",
       "    .dataframe tbody tr th {\n",
       "        vertical-align: top;\n",
       "    }\n",
       "\n",
       "    .dataframe thead th {\n",
       "        text-align: right;\n",
       "    }\n",
       "</style>\n",
       "<table border=\"1\" class=\"dataframe\">\n",
       "  <thead>\n",
       "    <tr style=\"text-align: right;\">\n",
       "      <th></th>\n",
       "      <th>from</th>\n",
       "      <th>to</th>\n",
       "      <th>cost</th>\n",
       "    </tr>\n",
       "  </thead>\n",
       "  <tbody>\n",
       "    <tr>\n",
       "      <th>0</th>\n",
       "      <td>1201054</td>\n",
       "      <td>1201054</td>\n",
       "      <td>0.0</td>\n",
       "    </tr>\n",
       "    <tr>\n",
       "      <th>1</th>\n",
       "      <td>1201054</td>\n",
       "      <td>1201066</td>\n",
       "      <td>2610.9</td>\n",
       "    </tr>\n",
       "    <tr>\n",
       "      <th>2</th>\n",
       "      <td>1201054</td>\n",
       "      <td>1201076</td>\n",
       "      <td>2822.7</td>\n",
       "    </tr>\n",
       "    <tr>\n",
       "      <th>3</th>\n",
       "      <td>1201054</td>\n",
       "      <td>1201087</td>\n",
       "      <td>2911.5</td>\n",
       "    </tr>\n",
       "    <tr>\n",
       "      <th>4</th>\n",
       "      <td>1201054</td>\n",
       "      <td>1201100</td>\n",
       "      <td>7160.1</td>\n",
       "    </tr>\n",
       "  </tbody>\n",
       "</table>\n",
       "</div>"
      ],
      "text/plain": [
       "      from       to    cost\n",
       "0  1201054  1201054     0.0\n",
       "1  1201054  1201066  2610.9\n",
       "2  1201054  1201076  2822.7\n",
       "3  1201054  1201087  2911.5\n",
       "4  1201054  1201100  7160.1"
      ]
     },
     "metadata": {},
     "output_type": "display_data"
    }
   ],
   "source": [
    "print(f\"file={args.tsfilepath}\")\n",
    "df = pd.read_hdf(args.tsfilepath)\n",
    "display(distance_df.head())\n",
    "train, val, test = data_split(df, train_size=0.7, val_size=0.1)"
   ]
  },
  {
   "cell_type": "code",
   "execution_count": 6,
   "metadata": {},
   "outputs": [],
   "source": [
    "# data scale\n",
    "scaler = StandardScaler()\n",
    "train = scaler.fit_transform(train)\n",
    "val = scaler.transform(val)\n",
    "test = scaler.transform(test)"
   ]
  },
  {
   "attachments": {},
   "cell_type": "markdown",
   "metadata": {},
   "source": [
    "### 1.3 Complete DataLoader\n",
    "\n",
    "$$\\hat{v_{t+1}},...,\\hat{v_{t+H}}=\\argmax_{v_{t+1},...,v_{t+H}} \\text{ log P}(v_{t+1},...,v_{t+H}|v_{t-M+1},...,v_{t})$$"
   ]
  },
  {
   "cell_type": "code",
   "execution_count": 7,
   "metadata": {},
   "outputs": [
    {
     "name": "stdout",
     "output_type": "stream",
     "text": [
      "n_his=144; n_pred=5\n",
      "device= cuda\n",
      "device= cuda\n",
      "device= cuda\n",
      "x_train.shape=torch.Size([23841, 1, 144, 207]); y_train.shape=torch.Size([23841, 5, 207])\n"
     ]
    },
    {
     "data": {
      "text/plain": [
       "(torch.Size([1, 144, 207]), torch.Size([5, 207]))"
      ]
     },
     "execution_count": 7,
     "metadata": {},
     "output_type": "execute_result"
    }
   ],
   "source": [
    "n_his = args.window\n",
    "n_pred = args.pred_len\n",
    "print(f\"n_his={n_his}; n_pred={n_pred}\")\n",
    "\n",
    "x_train, y_train = data_transform(train, n_his, n_pred)\n",
    "x_val, y_val = data_transform(val, n_his, n_pred)\n",
    "x_test, y_test = data_transform(test, n_his, n_pred)\n",
    "print(f\"x_train.shape={x_train.shape}; y_train.shape={y_train.shape}\")\n",
    "# one sample: input 144 ts -> pred 5 ts\n",
    "x_train[0].shape, y_train[0].shape"
   ]
  },
  {
   "cell_type": "code",
   "execution_count": 8,
   "metadata": {},
   "outputs": [
    {
     "name": "stdout",
     "output_type": "stream",
     "text": [
      "batch_size = 32\n"
     ]
    }
   ],
   "source": [
    "# batch_size = args.batch_size\n",
    "batch_size = 32\n",
    "print(f\"batch_size = {batch_size}\")\n",
    "\n",
    "train_data = TensorDataset(x_train, y_train)\n",
    "train_iter = DataLoader(train_data, batch_size, shuffle=True)\n",
    "val_data = TensorDataset(x_val, y_val)\n",
    "val_iter = DataLoader(val_data, batch_size)\n",
    "test_data = TensorDataset(x_test, y_test)\n",
    "test_iter = DataLoader(test_data, batch_size)"
   ]
  },
  {
   "attachments": {},
   "cell_type": "markdown",
   "metadata": {},
   "source": [
    "## 2. Model\n",
    "\n",
    "![](../pic/TCNBlock.png)\n",
    "\n",
    "The <b><font color=darkred>residual connection</font></b> and <b><font color=darkred>bottleneck</font></b> strategy are applied inside each block"
   ]
  },
  {
   "attachments": {},
   "cell_type": "markdown",
   "metadata": {},
   "source": [
    "### 2.1 Temporal Gated-Conv\n",
    "\n",
    "\n",
    "$$\\Gamma _{*\\tau} Y=P \\odot \\sigma(Q) \\in \\mathbb{R}^{C_o \\times (M-k_t+1)  \\times n}$$\n",
    "\n",
    "- $f(Y) = [\\text{P  Q}] \\in \\mathbb{R}^{2C_o \\times (M-k_t+1) \\times n }$\n",
    "- $Y \\in \\mathbb{R}^{C_i \\times M \\times n }$\n",
    "- M: his_n\n",
    "- n: node_num\n",
    "- $K_t$: kernal size\n",
    "- $C_i$: Channel in size\n",
    "- $C_o$: Channel out size\n",
    "\n",
    "```python\n",
    "# normal Conv2d channel-dim == 1\n",
    "c = c_out // 2\n",
    "out = conv(x)\n",
    "# [batch, channel, his_n, node_num] \n",
    "P = out[:, :c, :, :]\n",
    "Q = out[:, c:, :, :]\n",
    "final_out = P * torch.sigmoid(Q)\n",
    "```\n"
   ]
  },
  {
   "cell_type": "code",
   "execution_count": 9,
   "metadata": {},
   "outputs": [],
   "source": [
    "class TCN(nn.Module):\n",
    "    def __init__(self, c_in: int, c_out: int, dia: int=1):\n",
    "        \"\"\"TemporalConvLayer\n",
    "        input_dim:  (batch_size, 1, his_time_seires_len, node_num)\n",
    "        sample:     [b, 1, 144, 207]\n",
    "        Args:\n",
    "            c_in (int): channel in\n",
    "            c_out (_type_): channel out\n",
    "            dia (int, optional): The dilation size. Defaults to 1.\n",
    "        \"\"\"\n",
    "        super(TCN, self).__init__()\n",
    "        self.c_out = c_out * 2\n",
    "        self.c_in = c_in\n",
    "        self.conv = nn.Conv2d(\n",
    "            c_in, self.c_out, (2, 1), 1, padding=(0, 0), dilation=dia\n",
    "        )\n",
    "\n",
    "    def forward(self, x):\n",
    "        # [batch, channel, his_n, node_num] \n",
    "        #   kernel only filter on TimeSeries dim  his_n\n",
    "        c = self.c_out//2\n",
    "        out = self.conv(x)\n",
    "        if len(x.shape) == 3: # channel, his_n, node_num\n",
    "            P = out[:c, :, :]\n",
    "            Q = out[c:, :, :]\n",
    "        else:\n",
    "            P = out[:, :c, :, :]\n",
    "            Q = out[:, c:, :, :]\n",
    "        return P * torch.sigmoid(Q)"
   ]
  },
  {
   "cell_type": "code",
   "execution_count": 10,
   "metadata": {},
   "outputs": [
    {
     "data": {
      "text/plain": [
       "(torch.Size([10, 1, 144, 207]), torch.Size([10, 3, 143, 207]))"
      ]
     },
     "execution_count": 10,
     "metadata": {},
     "output_type": "execute_result"
    }
   ],
   "source": [
    "a = torch.randn(size=(10, 1, 144, 207))\n",
    "tcn = TCN(1, 3)\n",
    "a.shape, tcn(a).shape"
   ]
  },
  {
   "attachments": {},
   "cell_type": "markdown",
   "metadata": {},
   "source": [
    "### 2.3 Graph CNNs for Extracting Spatial Features\n",
    "\n",
    "$$out= \\Theta_{* \\mathcal{G}} x = \\sum_{k=0}^{K-1}\\theta_k T_k(\\tilde{L})x=\\sum_{k=0}^{K-1}W^{K, l}z^{k, l}$$\n",
    "- $Z^{0, l} = H^{l}$\n",
    "- $Z^{1, l} = \\tilde{L} \\cdot H^{l}$\n",
    "- $Z^{k, l} = 2 \\cdot \\tilde{L} \\cdot Z^{k-1, l} - Z^{k-2, l}$\n",
    "- $\\tilde{L} = 2\\left(I - \\tilde{D}^{-1/2} \\tilde{A} \\tilde{D}^{-1/2}\\right)/\\lambda_{max} - I$\n",
    "\n"
   ]
  },
  {
   "cell_type": "code",
   "execution_count": 11,
   "metadata": {},
   "outputs": [],
   "source": [
    "\n",
    "class STCN_Cheb(nn.Module):\n",
    "    def __init__(self, c, A, K=2):\n",
    "        \"\"\"spation cov layer\n",
    "        Args:\n",
    "            c (int): hidden dimension\n",
    "            A (adj matrix): adj matrix\n",
    "        \"\"\"\n",
    "        super(STCN_Cheb, self).__init__()\n",
    "        self.K = K\n",
    "        self.lambda_max = 2\n",
    "        self.tilde_L = self.get_tilde_L(A)\n",
    "        self.weight = nn.Parameter(torch.empty((K * c, c)))\n",
    "        self.bias = nn.Parameter(torch.empty(c))\n",
    "        stdv = 1.0 / np.sqrt(self.weight.size(1))\n",
    "        self.weight.data.uniform_(-stdv, stdv)\n",
    "\n",
    "    def get_tilde_L(self, A):\n",
    "        I = torch.diag(torch.Tensor([1] * A.size(0))).float()\n",
    "        tilde_A = A + I \n",
    "        tilde_D = torch.diag(torch.pow(tilde_A.sum(axis=1), -0.5))\n",
    "        return 2 / self.lambda_max * (I - tilde_D @ tilde_A @ tilde_D) - I\n",
    "    \n",
    "    def forward(self, x):\n",
    "        # For a signal with Ci channels M n C\n",
    "        # [batch, channel, his_n, node_num] -> [batch, node_num, his_n, channel] -> [batch, his_n, node_num, channel] \n",
    "        x = x.transpose(1, 3)\n",
    "        x = x.transpose(1, 2)\n",
    "        output = self.m_unnlpp(x)\n",
    "        output = output @ self.weight + self.bias\n",
    "        # return dim\n",
    "        output = output.transpose(1, 2)\n",
    "        output = output.transpose(1, 3)\n",
    "        return torch.relu(output) \n",
    "    \n",
    "    def m_unnlpp(self, feat):\n",
    "        K = self.K\n",
    "        X_0 = feat\n",
    "        Xt = [X_0]\n",
    "        # X_1(f)\n",
    "        if K > 1:\n",
    "            X_1 = self.tilde_L @ X_0\n",
    "            # Append X_1 to Xt\n",
    "            Xt.append(X_1)\n",
    "\n",
    "        for _ in range(2, K):\n",
    "            X_i =  2 * self.tilde_L @ X_1 - X_0\n",
    "            # Add X_1 to Xt\n",
    "            Xt.append(X_i)\n",
    "            X_1, X_0 = X_i, X_1\n",
    "        # Create the concatenation\n",
    "        Xt = torch.cat(Xt, dim=-1)\n",
    "        return Xt\n"
   ]
  },
  {
   "cell_type": "code",
   "execution_count": 12,
   "metadata": {},
   "outputs": [
    {
     "data": {
      "text/plain": [
       "(torch.Size([10, 3, 144, 207]), torch.Size([10, 3, 144, 207]))"
      ]
     },
     "execution_count": 12,
     "metadata": {},
     "output_type": "execute_result"
    }
   ],
   "source": [
    "a = torch.randn(size=(10, 3, 144, 207))\n",
    "A = torch.Tensor(adj_mx).float()\n",
    "scn = STCN_Cheb(3, A, K=2)\n",
    "a.shape, scn(a).shape"
   ]
  },
  {
   "attachments": {},
   "cell_type": "markdown",
   "metadata": {},
   "source": [
    "### 2.4 output Layer\n",
    "\n",
    "1. Conv his_n -> 1\n",
    "2. Channel features -> predict -> pred_n\n",
    "\n"
   ]
  },
  {
   "cell_type": "code",
   "execution_count": 13,
   "metadata": {},
   "outputs": [],
   "source": [
    "class FullyConvLayer(nn.Module):\n",
    "    def __init__(self, c, n):\n",
    "        super(FullyConvLayer, self).__init__()\n",
    "        self.conv = nn.Conv2d(c, n, 1)\n",
    "\n",
    "    def forward(self, x):\n",
    "        return self.conv(x)\n",
    "\n",
    "\n",
    "class OutputLayer(nn.Module):\n",
    "    def __init__(self, c, T, n, pred_n):\n",
    "        super(OutputLayer, self).__init__()\n",
    "        # [batch, channel, his_n, node_num] conv his_n -> 1\n",
    "        self.tconv1 = nn.Conv2d(c, c, (T, 1), 1, dilation=1, padding=(0, 0))\n",
    "        self.ln = nn.LayerNorm([n, c])\n",
    "        self.tconv2 = nn.Conv2d(c, c, (1, 1), 1, dilation=1, padding=(0, 0))\n",
    "        self.fc = FullyConvLayer(c, pred_n)\n",
    "\n",
    "    def forward(self, x):\n",
    "        x_t1 = self.tconv1(x)\n",
    "        x_ln = self.ln(x_t1.permute(0, 2, 3, 1)).permute(0, 3, 1, 2)\n",
    "        x_t2 = self.tconv2(x_ln)\n",
    "        return self.fc(x_t2).squeeze(2)\n"
   ]
  },
  {
   "attachments": {},
   "cell_type": "markdown",
   "metadata": {},
   "source": [
    "### 2.5 final model \n",
    "\n",
    "detial : [model.py](./model.py)"
   ]
  },
  {
   "cell_type": "code",
   "execution_count": 14,
   "metadata": {},
   "outputs": [
    {
     "name": "stdout",
     "output_type": "stream",
     "text": [
      "\n",
      "blocks = [1, 64, 16, 64, 16, 64]\n",
      "n_route = 207\n",
      "K = 2\n",
      "num_layers = 9\n",
      "control_str = TNTSTNTST\n",
      "\n"
     ]
    },
    {
     "data": {
      "text/plain": [
       "STGCN_WAVE(\n",
       "  (layers): ModuleList(\n",
       "    (0): TCN(\n",
       "      (conv): Conv2d(1, 128, kernel_size=(2, 1), stride=(1, 1))\n",
       "    )\n",
       "    (1): LayerNorm((207, 64), eps=1e-05, elementwise_affine=True)\n",
       "    (2): TCN(\n",
       "      (conv): Conv2d(64, 32, kernel_size=(2, 1), stride=(1, 1), dilation=(2, 2))\n",
       "    )\n",
       "    (3): STCN_Cheb()\n",
       "    (4): TCN(\n",
       "      (conv): Conv2d(16, 128, kernel_size=(2, 1), stride=(1, 1), dilation=(4, 4))\n",
       "    )\n",
       "    (5): LayerNorm((207, 64), eps=1e-05, elementwise_affine=True)\n",
       "    (6): TCN(\n",
       "      (conv): Conv2d(64, 32, kernel_size=(2, 1), stride=(1, 1), dilation=(8, 8))\n",
       "    )\n",
       "    (7): STCN_Cheb()\n",
       "    (8): TCN(\n",
       "      (conv): Conv2d(16, 128, kernel_size=(2, 1), stride=(1, 1), dilation=(16, 16))\n",
       "    )\n",
       "  )\n",
       "  (output): OutputLayer(\n",
       "    (tconv1): Conv2d(64, 64, kernel_size=(113, 1), stride=(1, 1))\n",
       "    (ln): LayerNorm((207, 64), eps=1e-05, elementwise_affine=True)\n",
       "    (tconv2): Conv2d(64, 64, kernel_size=(1, 1), stride=(1, 1))\n",
       "    (fc): FullyConvLayer(\n",
       "      (conv): Conv2d(64, 5, kernel_size=(1, 1), stride=(1, 1))\n",
       "    )\n",
       "  )\n",
       ")"
      ]
     },
     "execution_count": 14,
     "metadata": {},
     "output_type": "execute_result"
    }
   ],
   "source": [
    "blocks = [1, 64, 16, 64, 16, 64] # args.channels\n",
    "\n",
    "# blocks = [1, 64, 16, 64, 16, 64]\n",
    "# control_str = TNTSTNTST\n",
    "#   TCN(1, 64*2)-> LayerNorm -> \n",
    "#   St-Conv Block1[  TCN(64, 16*2)->SCN(16, 16)->TCN(16, 64*2) ]  -> LayerNorm\n",
    "#   St-Conv Block2[  TCN(64, 16*2)->SCN(16, 16)->TCN(16, 64*2) ]\n",
    "n_route = x_train.shape[-1]\n",
    "K = 2\n",
    "num_layers = len(args.control_str)\n",
    "print(f\"\"\"\n",
    "blocks = {blocks}\n",
    "n_route = {n_route}\n",
    "K = {K}\n",
    "num_layers = {num_layers}\n",
    "control_str = {args.control_str}\n",
    "\"\"\")\n",
    "\n",
    "# move param and data to device\n",
    "G = torch.Tensor(adj_mx).float()\n",
    "G = G.to(device)\n",
    "model = STGCN_WAVE(\n",
    "    blocks, n_his, n_pred, n_route, G, K, device, args.control_str\n",
    ").to(device)\n",
    "model\n"
   ]
  },
  {
   "attachments": {},
   "cell_type": "markdown",
   "metadata": {},
   "source": [
    "## 3. Training"
   ]
  },
  {
   "cell_type": "code",
   "execution_count": 15,
   "metadata": {},
   "outputs": [
    {
     "name": "stdout",
     "output_type": "stream",
     "text": [
      "lr=0.001\n"
     ]
    }
   ],
   "source": [
    "# optim scheduler\n",
    "lr = args.lr\n",
    "print(f\"lr={lr}\")\n",
    "optimizer = torch.optim.RMSprop(model.parameters(), lr=lr)\n",
    "scheduler = torch.optim.lr_scheduler.StepLR(optimizer, step_size=5, gamma=0.7)\n",
    "\n",
    "# loss\n",
    "loss = nn.MSELoss()"
   ]
  },
  {
   "cell_type": "code",
   "execution_count": 16,
   "metadata": {},
   "outputs": [
    {
     "name": "stderr",
     "output_type": "stream",
     "text": [
      "[ Train | 001 / 010 ]: 100%|██████████| 746/746 [02:25<00:00,  5.14it/s, loss=0.00425]\n"
     ]
    },
    {
     "name": "stdout",
     "output_type": "stream",
     "text": [
      "epoch=1, train loss:0.00425, validation loss:0.00041\n"
     ]
    },
    {
     "name": "stderr",
     "output_type": "stream",
     "text": [
      "[ Train | 002 / 010 ]: 100%|██████████| 746/746 [02:24<00:00,  5.16it/s, loss=0.00026]\n"
     ]
    },
    {
     "name": "stdout",
     "output_type": "stream",
     "text": [
      "epoch=2, train loss:0.00026, validation loss:0.00000\n"
     ]
    },
    {
     "name": "stderr",
     "output_type": "stream",
     "text": [
      "[ Train | 003 / 010 ]: 100%|██████████| 746/746 [02:24<00:00,  5.17it/s, loss=0.00005]\n"
     ]
    },
    {
     "name": "stdout",
     "output_type": "stream",
     "text": [
      "epoch=3, train loss:0.00005, validation loss:0.00000\n"
     ]
    },
    {
     "name": "stderr",
     "output_type": "stream",
     "text": [
      "[ Train | 004 / 010 ]: 100%|██████████| 746/746 [02:23<00:00,  5.19it/s, loss=0.00003]\n"
     ]
    },
    {
     "name": "stdout",
     "output_type": "stream",
     "text": [
      "epoch=4, train loss:0.00003, validation loss:0.00001\n"
     ]
    },
    {
     "name": "stderr",
     "output_type": "stream",
     "text": [
      "[ Train | 005 / 010 ]: 100%|██████████| 746/746 [02:23<00:00,  5.19it/s, loss=0.00002]\n"
     ]
    },
    {
     "name": "stdout",
     "output_type": "stream",
     "text": [
      "epoch=5, train loss:0.00002, validation loss:0.00000\n"
     ]
    },
    {
     "name": "stderr",
     "output_type": "stream",
     "text": [
      "[ Train | 006 / 010 ]: 100%|██████████| 746/746 [02:23<00:00,  5.18it/s, loss=0.00000]\n"
     ]
    },
    {
     "name": "stdout",
     "output_type": "stream",
     "text": [
      "epoch=6, train loss:0.00000, validation loss:0.00000\n"
     ]
    },
    {
     "name": "stderr",
     "output_type": "stream",
     "text": [
      "[ Train | 007 / 010 ]: 100%|██████████| 746/746 [02:24<00:00,  5.17it/s, loss=0.00001]\n"
     ]
    },
    {
     "name": "stdout",
     "output_type": "stream",
     "text": [
      "epoch=7, train loss:0.00001, validation loss:0.00000\n"
     ]
    },
    {
     "name": "stderr",
     "output_type": "stream",
     "text": [
      "[ Train | 008 / 010 ]: 100%|██████████| 746/746 [02:24<00:00,  5.17it/s, loss=0.00001]\n"
     ]
    },
    {
     "name": "stdout",
     "output_type": "stream",
     "text": [
      "epoch=8, train loss:0.00001, validation loss:0.00000\n"
     ]
    },
    {
     "name": "stderr",
     "output_type": "stream",
     "text": [
      "[ Train | 009 / 010 ]: 100%|██████████| 746/746 [02:23<00:00,  5.19it/s, loss=0.00000]\n"
     ]
    },
    {
     "name": "stdout",
     "output_type": "stream",
     "text": [
      "epoch=9, train loss:0.00000, validation loss:0.00000\n"
     ]
    },
    {
     "name": "stderr",
     "output_type": "stream",
     "text": [
      "[ Train | 010 / 010 ]: 100%|██████████| 746/746 [02:24<00:00,  5.18it/s, loss=0.00000]\n"
     ]
    },
    {
     "name": "stdout",
     "output_type": "stream",
     "text": [
      "epoch=10, train loss:0.00000, validation loss:0.00000\n"
     ]
    }
   ],
   "source": [
    "save_path = args.savemodelpath\n",
    "epochs = 10\n",
    "\n",
    "min_val_loss = np.inf\n",
    "for epoch in range(1, epochs + 1):\n",
    "    l_sum, n = 0.0, 0\n",
    "    model.train()\n",
    "    tq_bar = tqdm(train_iter)\n",
    "    tq_bar.set_description(f\"[ Train | {epoch:03d} / {epochs:03d} ]\")\n",
    "    for x, y in tq_bar:\n",
    "        x, y = x.to(device), y.to(device)\n",
    "        y_pred = model(x)\n",
    "        l = loss(y_pred, y)\n",
    "        optimizer.zero_grad()\n",
    "        l.backward()\n",
    "        optimizer.step()\n",
    "        l_sum += l.cpu().item() * y.shape[0]\n",
    "        n += y.shape[0]\n",
    "        tq_bar.set_postfix({'loss': \"{:.5f}\".format(l_sum / (n+0.0001))})\n",
    "\n",
    "    scheduler.step()\n",
    "    val_loss = evaluate_model(model, loss, val_iter)\n",
    "    if val_loss < min_val_loss:\n",
    "        min_val_loss = val_loss\n",
    "        torch.save(model.state_dict(), save_path)\n",
    "    print(f\"epoch={epoch}, train loss:{l_sum / n:.5f}, validation loss:{val_loss:.5f}\")\n"
   ]
  },
  {
   "cell_type": "code",
   "execution_count": 17,
   "metadata": {},
   "outputs": [
    {
     "name": "stderr",
     "output_type": "stream",
     "text": [
      "100%|██████████| 210/210 [00:08<00:00, 25.23it/s]\n"
     ]
    },
    {
     "name": "stdout",
     "output_type": "stream",
     "text": [
      "test loss: 2.3424523439519626e-10 \n",
      "MAE: 0.0042858931886271745 , MAPE: 7.998050592316799e-05 , RMSE: 0.005582154751522318\n"
     ]
    }
   ],
   "source": [
    "save_path = args.savemodelpath\n",
    "best_model = STGCN_WAVE(\n",
    "    blocks, n_his, n_pred, n_route, G, K, device, args.control_str\n",
    ").to(device)\n",
    "best_model.load_state_dict(torch.load(save_path, map_location='cpu'))\n",
    "best_model.to(device)\n",
    "l = evaluate_model(best_model, loss, test_iter)\n",
    "MAE, MAPE, RMSE = evaluate_metric(best_model, test_iter, scaler)\n",
    "print(\"test loss:\", l, \"\\nMAE:\", MAE, \", MAPE:\", MAPE, \", RMSE:\", RMSE)"
   ]
  }
 ],
 "metadata": {
  "kernelspec": {
   "display_name": "stgcn_wave",
   "language": "python",
   "name": "python3"
  },
  "language_info": {
   "codemirror_mode": {
    "name": "ipython",
    "version": 3
   },
   "file_extension": ".py",
   "mimetype": "text/x-python",
   "name": "python",
   "nbconvert_exporter": "python",
   "pygments_lexer": "ipython3",
   "version": "3.8.16"
  },
  "orig_nbformat": 4
 },
 "nbformat": 4,
 "nbformat_minor": 2
}
