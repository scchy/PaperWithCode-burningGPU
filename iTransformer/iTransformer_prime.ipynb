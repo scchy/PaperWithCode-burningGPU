{
 "cells": [
  {
   "cell_type": "code",
   "execution_count": 1,
   "metadata": {},
   "outputs": [],
   "source": [
    "import os\n",
    "import math\n",
    "import pandas as pd\n",
    "import numpy as np\n",
    "import torch\n",
    "from torch.utils.data import DataLoader, Dataset\n",
    "from itf import iTransformer\n",
    "from itf_utils import Dataset_hour, train\n",
    "from argparse import Namespace\n",
    "import random"
   ]
  },
  {
   "cell_type": "code",
   "execution_count": 2,
   "metadata": {},
   "outputs": [
    {
     "name": "stdout",
     "output_type": "stream",
     "text": [
      "Set env random_seed = 202403\n"
     ]
    }
   ],
   "source": [
    "# reset seed \n",
    "def all_seed(seed=6666):\n",
    "    np.random.seed(seed)\n",
    "    random.seed(seed)\n",
    "    # CPU\n",
    "    torch.manual_seed(seed)\n",
    "    # GPU\n",
    "    if torch.cuda.is_available():\n",
    "        torch.cuda.manual_seed_all(seed)\n",
    "        torch.cuda.manual_seed(seed)\n",
    "    # python全局\n",
    "    os.environ['PYTHONHASHSEED'] = str(seed)\n",
    "    # cudnn\n",
    "    torch.backends.cudnn.deterministic = True\n",
    "    torch.backends.cudnn.benchmark = False\n",
    "    torch.backends.cudnn.enabled = False\n",
    "    print(f'Set env random_seed = {seed}')\n",
    "    \n",
    "    \n",
    "all_seed(202403)"
   ]
  },
  {
   "cell_type": "markdown",
   "metadata": {},
   "source": [
    "# 1. loading data \n",
    "- long term forcast\n",
    "- data: [ETT-small](https://github.com/zhouhaoyi/ETDataset/tree/main)"
   ]
  },
  {
   "cell_type": "code",
   "execution_count": 3,
   "metadata": {},
   "outputs": [
    {
     "name": "stdout",
     "output_type": "stream",
     "text": [
      "(17420, 8)\n"
     ]
    },
    {
     "data": {
      "text/html": [
       "<div>\n",
       "<style scoped>\n",
       "    .dataframe tbody tr th:only-of-type {\n",
       "        vertical-align: middle;\n",
       "    }\n",
       "\n",
       "    .dataframe tbody tr th {\n",
       "        vertical-align: top;\n",
       "    }\n",
       "\n",
       "    .dataframe thead th {\n",
       "        text-align: right;\n",
       "    }\n",
       "</style>\n",
       "<table border=\"1\" class=\"dataframe\">\n",
       "  <thead>\n",
       "    <tr style=\"text-align: right;\">\n",
       "      <th></th>\n",
       "      <th>date</th>\n",
       "      <th>HUFL</th>\n",
       "      <th>HULL</th>\n",
       "      <th>MUFL</th>\n",
       "      <th>MULL</th>\n",
       "      <th>LUFL</th>\n",
       "      <th>LULL</th>\n",
       "      <th>OT</th>\n",
       "    </tr>\n",
       "  </thead>\n",
       "  <tbody>\n",
       "    <tr>\n",
       "      <th>0</th>\n",
       "      <td>2016-07-01 00:00:00</td>\n",
       "      <td>5.827</td>\n",
       "      <td>2.009</td>\n",
       "      <td>1.599</td>\n",
       "      <td>0.462</td>\n",
       "      <td>4.203</td>\n",
       "      <td>1.340</td>\n",
       "      <td>30.531000</td>\n",
       "    </tr>\n",
       "    <tr>\n",
       "      <th>1</th>\n",
       "      <td>2016-07-01 01:00:00</td>\n",
       "      <td>5.693</td>\n",
       "      <td>2.076</td>\n",
       "      <td>1.492</td>\n",
       "      <td>0.426</td>\n",
       "      <td>4.142</td>\n",
       "      <td>1.371</td>\n",
       "      <td>27.787001</td>\n",
       "    </tr>\n",
       "    <tr>\n",
       "      <th>2</th>\n",
       "      <td>2016-07-01 02:00:00</td>\n",
       "      <td>5.157</td>\n",
       "      <td>1.741</td>\n",
       "      <td>1.279</td>\n",
       "      <td>0.355</td>\n",
       "      <td>3.777</td>\n",
       "      <td>1.218</td>\n",
       "      <td>27.787001</td>\n",
       "    </tr>\n",
       "    <tr>\n",
       "      <th>3</th>\n",
       "      <td>2016-07-01 03:00:00</td>\n",
       "      <td>5.090</td>\n",
       "      <td>1.942</td>\n",
       "      <td>1.279</td>\n",
       "      <td>0.391</td>\n",
       "      <td>3.807</td>\n",
       "      <td>1.279</td>\n",
       "      <td>25.044001</td>\n",
       "    </tr>\n",
       "    <tr>\n",
       "      <th>4</th>\n",
       "      <td>2016-07-01 04:00:00</td>\n",
       "      <td>5.358</td>\n",
       "      <td>1.942</td>\n",
       "      <td>1.492</td>\n",
       "      <td>0.462</td>\n",
       "      <td>3.868</td>\n",
       "      <td>1.279</td>\n",
       "      <td>21.948000</td>\n",
       "    </tr>\n",
       "  </tbody>\n",
       "</table>\n",
       "</div>"
      ],
      "text/plain": [
       "                  date   HUFL   HULL   MUFL   MULL   LUFL   LULL         OT\n",
       "0  2016-07-01 00:00:00  5.827  2.009  1.599  0.462  4.203  1.340  30.531000\n",
       "1  2016-07-01 01:00:00  5.693  2.076  1.492  0.426  4.142  1.371  27.787001\n",
       "2  2016-07-01 02:00:00  5.157  1.741  1.279  0.355  3.777  1.218  27.787001\n",
       "3  2016-07-01 03:00:00  5.090  1.942  1.279  0.391  3.807  1.279  25.044001\n",
       "4  2016-07-01 04:00:00  5.358  1.942  1.492  0.462  3.868  1.279  21.948000"
      ]
     },
     "execution_count": 3,
     "metadata": {},
     "output_type": "execute_result"
    }
   ],
   "source": [
    "data_dir = \"/home/scc/Downloads/Datas/ETDataset/ETT-small\"\n",
    "data_file = f'{data_dir}{os.sep}ETTh2.csv'\n",
    "data_file = f'{data_dir}{os.sep}ETTh1.csv'\n",
    "df = pd.read_csv(data_file)\n",
    "df = df.sort_values(by='date', ignore_index=True)\n",
    "print(df.shape)\n",
    "df.head()"
   ]
  },
  {
   "cell_type": "code",
   "execution_count": 4,
   "metadata": {},
   "outputs": [
    {
     "data": {
      "text/plain": [
       "[(0, 8640), (8544, 11520), (11424, 14400)]"
      ]
     },
     "execution_count": 4,
     "metadata": {},
     "output_type": "execute_result"
    }
   ],
   "source": [
    "base_ = 30 * 24\n",
    "seq_len = 96\n",
    "border1s = [0, 12 * base_ - seq_len, (12 + 4) * base_ - seq_len]\n",
    "border2s = [12 * base_, (12 + 4) * base_, (12 + 8) * base_]\n",
    "list(zip(border1s, border2s))"
   ]
  },
  {
   "cell_type": "markdown",
   "metadata": {},
   "source": [
    "# dataloader"
   ]
  },
  {
   "cell_type": "code",
   "execution_count": 5,
   "metadata": {},
   "outputs": [],
   "source": [
    "cfg = Namespace(\n",
    "    task_name='long_term_forecast',\n",
    "    output_attention=False,\n",
    "    # enc param: embed & attention\n",
    "    use_norm=True,\n",
    "    d_model=512,\n",
    "    d_ff=512,\n",
    "    n_heads=16, #8,\n",
    "    dropout=0.15,\n",
    "    e_layers=2,\n",
    "    activation='gelu',\n",
    "    # seq param\n",
    "    seq_len=4*7*24,\n",
    "    pred_len=24, \n",
    "    learning_rate=1.0e-4, #5e-6,\n",
    "    num_epochs=20,\n",
    "    batch_size=32,\n",
    "    device='cuda' if torch.cuda.is_available() else 'cpu',\n",
    "    save_dir='./models_pt'\n",
    ")\n",
    "target_cols = ['HUFL', 'HULL', 'MUFL', 'MULL', 'LUFL', 'LULL', 'OT']"
   ]
  },
  {
   "cell_type": "code",
   "execution_count": 6,
   "metadata": {},
   "outputs": [],
   "source": [
    "# df.columns"
   ]
  },
  {
   "cell_type": "code",
   "execution_count": 7,
   "metadata": {},
   "outputs": [
    {
     "name": "stdout",
     "output_type": "stream",
     "text": [
      "set_type(0): 0 -> 8640 len=7945\n",
      "df_raw.shape=(17420, 8) data.shape=(17420, 7) self.data_x.shape=(8640, 7)\n",
      "7945\n",
      "set_type(1): 7968 -> 11520 len=2857\n",
      "df_raw.shape=(17420, 8) data.shape=(17420, 7) self.data_x.shape=(3552, 7)\n",
      "2857\n",
      "set_type(2): 10848 -> 14400 len=2857\n",
      "df_raw.shape=(17420, 8) data.shape=(17420, 7) self.data_x.shape=(3552, 7)\n",
      "2857\n"
     ]
    }
   ],
   "source": [
    "tr_data_set = Dataset_hour(df, target_cols=target_cols, flag='train', seq_len=cfg.seq_len, pred_len=cfg.pred_len, scale=True)\n",
    "tr_loader = DataLoader(tr_data_set, batch_size=cfg.batch_size, shuffle=True)\n",
    "print(len(tr_data_set))\n",
    "\n",
    "val_data_set = Dataset_hour(df, target_cols=target_cols, flag='val', seq_len=cfg.seq_len, pred_len=cfg.pred_len, scale=True)\n",
    "val_loader = DataLoader(val_data_set, batch_size=cfg.batch_size, shuffle=True)\n",
    "print(len(val_data_set))\n",
    "\n",
    "te_data_set = Dataset_hour(df, target_cols=target_cols, flag='test', seq_len=cfg.seq_len, pred_len=cfg.pred_len, scale=True)\n",
    "test_loader = DataLoader(te_data_set, batch_size=cfg.batch_size, shuffle=False)\n",
    "print(len(te_data_set))"
   ]
  },
  {
   "cell_type": "markdown",
   "metadata": {},
   "source": [
    "# train"
   ]
  },
  {
   "cell_type": "code",
   "execution_count": 8,
   "metadata": {},
   "outputs": [],
   "source": [
    "itf_model = iTransformer(cfg)"
   ]
  },
  {
   "cell_type": "code",
   "execution_count": 9,
   "metadata": {},
   "outputs": [
    {
     "data": {
      "application/vnd.jupyter.widget-view+json": {
       "model_id": "bd87e5b91655468cb4f31782e8f17dcd",
       "version_major": 2,
       "version_minor": 0
      },
      "text/plain": [
       "  0%|          | 0/20 [00:00<?, ?it/s]"
      ]
     },
     "metadata": {},
     "output_type": "display_data"
    },
    {
     "name": "stdout",
     "output_type": "stream",
     "text": [
      "Epoch: 001, Steps: 249 | Train Loss: 0.32809(invLoss: 5.11133) Vali Loss: 0.50701 Test Loss: 0.34175\n",
      "Saved Best Model: loss=0.50701\n",
      "Epoch: 002, Steps: 249 | Train Loss: 0.25336(invLoss: 3.99947) Vali Loss: 0.47596 Test Loss: 0.34163\n",
      "Saved Best Model: loss=0.47596\n",
      "Epoch: 003, Steps: 249 | Train Loss: 0.20759(invLoss: 3.35810) Vali Loss: 0.52578 Test Loss: 0.35098\n",
      "Epoch: 004, Steps: 249 | Train Loss: 0.17568(invLoss: 2.79653) Vali Loss: 0.52857 Test Loss: 0.35355\n",
      "Epoch: 005, Steps: 249 | Train Loss: 0.15405(invLoss: 2.41727) Vali Loss: 0.50837 Test Loss: 0.35723\n",
      "Epoch: 006, Steps: 249 | Train Loss: 0.13650(invLoss: 2.11861) Vali Loss: 0.52463 Test Loss: 0.35747\n",
      "Epoch: 007, Steps: 249 | Train Loss: 0.12430(invLoss: 1.90331) Vali Loss: 0.52491 Test Loss: 0.36321\n",
      "Epoch: 008, Steps: 249 | Train Loss: 0.11465(invLoss: 1.73443) Vali Loss: 0.51360 Test Loss: 0.36423\n",
      "Epoch: 009, Steps: 249 | Train Loss: 0.10718(invLoss: 1.61777) Vali Loss: 0.50440 Test Loss: 0.35833\n",
      "Epoch: 010, Steps: 249 | Train Loss: 0.10174(invLoss: 1.52343) Vali Loss: 0.50730 Test Loss: 0.36000\n",
      "Epoch: 011, Steps: 249 | Train Loss: 0.09664(invLoss: 1.44204) Vali Loss: 0.52258 Test Loss: 0.36526\n",
      "Epoch: 012, Steps: 249 | Train Loss: 0.09290(invLoss: 1.38565) Vali Loss: 0.49978 Test Loss: 0.35521\n",
      "Epoch: 013, Steps: 249 | Train Loss: 0.08910(invLoss: 1.32428) Vali Loss: 0.51778 Test Loss: 0.35993\n",
      "Epoch: 014, Steps: 249 | Train Loss: 0.08603(invLoss: 1.27319) Vali Loss: 0.50883 Test Loss: 0.35732\n",
      "Epoch: 015, Steps: 249 | Train Loss: 0.08350(invLoss: 1.22932) Vali Loss: 0.50002 Test Loss: 0.35470\n",
      "Epoch: 016, Steps: 249 | Train Loss: 0.08110(invLoss: 1.19060) Vali Loss: 0.50375 Test Loss: 0.34849\n",
      "Epoch: 017, Steps: 249 | Train Loss: 0.07857(invLoss: 1.15016) Vali Loss: 0.49568 Test Loss: 0.35171\n",
      "Epoch: 018, Steps: 249 | Train Loss: 0.07665(invLoss: 1.11990) Vali Loss: 0.49383 Test Loss: 0.34931\n",
      "Epoch: 019, Steps: 249 | Train Loss: 0.07495(invLoss: 1.09909) Vali Loss: 0.48761 Test Loss: 0.35049\n",
      "Epoch: 020, Steps: 249 | Train Loss: 0.07329(invLoss: 1.06635) Vali Loss: 0.48935 Test Loss: 0.34938\n"
     ]
    }
   ],
   "source": [
    "itf_model = train(\n",
    "    itf_model, tr_loader, val_loader, test_loader, cfg, invert_tf=te_data_set.inverse_transform\n",
    ")"
   ]
  },
  {
   "cell_type": "markdown",
   "metadata": {},
   "source": [
    "# inference "
   ]
  },
  {
   "cell_type": "code",
   "execution_count": 13,
   "metadata": {},
   "outputs": [
    {
     "name": "stdout",
     "output_type": "stream",
     "text": [
      "90\n",
      "24\n"
     ]
    }
   ],
   "source": [
    "print(len(test_loader))\n",
    "i_set = 24 #24 #48\n",
    "device = cfg.device\n",
    "itf_model.eval()\n",
    "with torch.no_grad():\n",
    "    for i, (batch_x, batch_y, seq_x_mark, seq_y_mark) in enumerate(test_loader):\n",
    "        batch_x = batch_x.float().to(device)\n",
    "        batch_y = batch_y.float().to(device)\n",
    "        seq_x_mark = seq_x_mark.float().to(device)\n",
    "        seq_y_mark = seq_y_mark.float().to(device)\n",
    "\n",
    "        outputs = itf_model(batch_x, seq_x_mark)\n",
    "        pred = outputs.detach().cpu()\n",
    "        true = batch_y.detach().cpu()\n",
    "        if i == i_set:\n",
    "            print(i)\n",
    "            break"
   ]
  },
  {
   "cell_type": "code",
   "execution_count": 14,
   "metadata": {},
   "outputs": [],
   "source": [
    "# df[:48].set_index('date')['OT'].plot()"
   ]
  },
  {
   "cell_type": "code",
   "execution_count": 15,
   "metadata": {},
   "outputs": [
    {
     "data": {
      "image/png": "[encoded data removed]",
      "text/plain": [
       "<Figure size 1600x300 with 1 Axes>"
      ]
     },
     "metadata": {},
     "output_type": "display_data"
    }
   ],
   "source": [
    "import matplotlib.pyplot as plt\n",
    "\n",
    "\n",
    "for b in range(pred.shape[0]):\n",
    "    plt.figure(figsize=(16, 3))\n",
    "    back_seq = tr_data_set.inverse_transform(batch_x[b].detach().cpu().numpy())[:, -1].flatten()\n",
    "    pred_ = np.concatenate([np.array([np.nan]*len(back_seq)), tr_data_set.inverse_transform(pred[b].numpy())[:, -1].flatten()])\n",
    "    real_only = np.concatenate([np.array([np.nan]*len(back_seq)), tr_data_set.inverse_transform(true[b].numpy())[-cfg.pred_len:, -1].flatten()])\n",
    "    real_ = np.concatenate([back_seq, tr_data_set.inverse_transform(true[b].numpy())[-cfg.pred_len:, -1].flatten()])\n",
    "\n",
    "    plt.plot(pred_, label='pred', linestyle='--')\n",
    "    plt.plot(real_, label='real', linestyle='--', color='darkred', alpha=0.5)\n",
    "    plt.plot(real_only, label='real', color='darkred', alpha=0.8)\n",
    "    plt.legend()\n",
    "    plt.title(f'sample i={i_set}')\n",
    "    plt.show()\n",
    "    break\n",
    "    # if b >= 3:\n",
    "    #     break"
   ]
  },
  {
   "cell_type": "code",
   "execution_count": null,
   "metadata": {},
   "outputs": [],
   "source": []
  }
 ],
 "metadata": {
  "kernelspec": {
   "display_name": "LLM",
   "language": "python",
   "name": "python3"
  },
  "language_info": {
   "codemirror_mode": {
    "name": "ipython",
    "version": 3
   },
   "file_extension": ".py",
   "mimetype": "text/x-python",
   "name": "python",
   "nbconvert_exporter": "python",
   "pygments_lexer": "ipython3",
   "version": "3.10.9"
  }
 },
 "nbformat": 4,
 "nbformat_minor": 2
}
