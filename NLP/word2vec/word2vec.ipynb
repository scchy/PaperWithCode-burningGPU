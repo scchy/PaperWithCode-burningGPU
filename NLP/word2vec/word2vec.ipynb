{
 "cells": [
  {
   "cell_type": "code",
   "execution_count": 1,
   "metadata": {},
   "outputs": [],
   "source": [
    "from collections import deque\n",
    "from tqdm.notebook import tqdm\n",
    "import re\n",
    "import torch\n",
    "import numpy as np\n",
    "import pandas as pd\n",
    "import os\n",
    "from pathlib import Path\n",
    "\n",
    "data_path = Path('/home/scc/Downloads/playDataFeedback')"
   ]
  },
  {
   "cell_type": "markdown",
   "metadata": {},
   "source": [
    "# 1- load & clean data"
   ]
  },
  {
   "cell_type": "code",
   "execution_count": 2,
   "metadata": {},
   "outputs": [
    {
     "name": "stdout",
     "output_type": "stream",
     "text": [
      "(10, 4)\n"
     ]
    }
   ],
   "source": [
    "train_df = pd.read_csv(data_path.joinpath('train.csv'))\n",
    "test_df = pd.read_csv(data_path.joinpath('test.csv'))\n",
    "print(test_df.shape)"
   ]
  },
  {
   "cell_type": "code",
   "execution_count": 3,
   "metadata": {},
   "outputs": [
    {
     "data": {
      "text/html": [
       "<div>\n",
       "<style scoped>\n",
       "    .dataframe tbody tr th:only-of-type {\n",
       "        vertical-align: middle;\n",
       "    }\n",
       "\n",
       "    .dataframe tbody tr th {\n",
       "        vertical-align: top;\n",
       "    }\n",
       "\n",
       "    .dataframe thead th {\n",
       "        text-align: right;\n",
       "    }\n",
       "</style>\n",
       "<table border=\"1\" class=\"dataframe\">\n",
       "  <thead>\n",
       "    <tr style=\"text-align: right;\">\n",
       "      <th></th>\n",
       "      <th>discourse_id</th>\n",
       "      <th>essay_id</th>\n",
       "      <th>discourse_text</th>\n",
       "      <th>discourse_type</th>\n",
       "      <th>discourse_effectiveness</th>\n",
       "    </tr>\n",
       "  </thead>\n",
       "  <tbody>\n",
       "    <tr>\n",
       "      <th>14340</th>\n",
       "      <td>fe6dfbd53216</td>\n",
       "      <td>00066EA9880D</td>\n",
       "      <td>Driverless cars are exaclty what you would exp...</td>\n",
       "      <td>Lead</td>\n",
       "      <td>Adequate</td>\n",
       "    </tr>\n",
       "    <tr>\n",
       "      <th>14341</th>\n",
       "      <td>ca9e1b60c9fb</td>\n",
       "      <td>00066EA9880D</td>\n",
       "      <td>The developement of these cars should be stopp...</td>\n",
       "      <td>Position</td>\n",
       "      <td>Effective</td>\n",
       "    </tr>\n",
       "    <tr>\n",
       "      <th>14342</th>\n",
       "      <td>6cf2157f4f19</td>\n",
       "      <td>00066EA9880D</td>\n",
       "      <td>the driver will be alerted when they will need...</td>\n",
       "      <td>Claim</td>\n",
       "      <td>Effective</td>\n",
       "    </tr>\n",
       "    <tr>\n",
       "      <th>14343</th>\n",
       "      <td>d920880f4341</td>\n",
       "      <td>00066EA9880D</td>\n",
       "      <td>This is such a dangerous thing because we all ...</td>\n",
       "      <td>Evidence</td>\n",
       "      <td>Effective</td>\n",
       "    </tr>\n",
       "    <tr>\n",
       "      <th>14344</th>\n",
       "      <td>7d52c3216a0e</td>\n",
       "      <td>00066EA9880D</td>\n",
       "      <td>Another thing that can go wrong with these car...</td>\n",
       "      <td>Claim</td>\n",
       "      <td>Effective</td>\n",
       "    </tr>\n",
       "    <tr>\n",
       "      <th>14345</th>\n",
       "      <td>30930de50889</td>\n",
       "      <td>00066EA9880D</td>\n",
       "      <td>Every person with any kind of technological de...</td>\n",
       "      <td>Evidence</td>\n",
       "      <td>Effective</td>\n",
       "    </tr>\n",
       "    <tr>\n",
       "      <th>14346</th>\n",
       "      <td>d16ff143cb0b</td>\n",
       "      <td>00066EA9880D</td>\n",
       "      <td>who to blame for the wreck if there were possi...</td>\n",
       "      <td>Claim</td>\n",
       "      <td>Effective</td>\n",
       "    </tr>\n",
       "    <tr>\n",
       "      <th>14347</th>\n",
       "      <td>cb665a65fb75</td>\n",
       "      <td>00066EA9880D</td>\n",
       "      <td>Should the manufacturer of the car be blamed o...</td>\n",
       "      <td>Evidence</td>\n",
       "      <td>Effective</td>\n",
       "    </tr>\n",
       "    <tr>\n",
       "      <th>14348</th>\n",
       "      <td>3e75ef7e0262</td>\n",
       "      <td>00066EA9880D</td>\n",
       "      <td>With all these things that could possibly go w...</td>\n",
       "      <td>Concluding Statement</td>\n",
       "      <td>Adequate</td>\n",
       "    </tr>\n",
       "  </tbody>\n",
       "</table>\n",
       "</div>"
      ],
      "text/plain": [
       "       discourse_id      essay_id  \\\n",
       "14340  fe6dfbd53216  00066EA9880D   \n",
       "14341  ca9e1b60c9fb  00066EA9880D   \n",
       "14342  6cf2157f4f19  00066EA9880D   \n",
       "14343  d920880f4341  00066EA9880D   \n",
       "14344  7d52c3216a0e  00066EA9880D   \n",
       "14345  30930de50889  00066EA9880D   \n",
       "14346  d16ff143cb0b  00066EA9880D   \n",
       "14347  cb665a65fb75  00066EA9880D   \n",
       "14348  3e75ef7e0262  00066EA9880D   \n",
       "\n",
       "                                          discourse_text  \\\n",
       "14340  Driverless cars are exaclty what you would exp...   \n",
       "14341  The developement of these cars should be stopp...   \n",
       "14342  the driver will be alerted when they will need...   \n",
       "14343  This is such a dangerous thing because we all ...   \n",
       "14344  Another thing that can go wrong with these car...   \n",
       "14345  Every person with any kind of technological de...   \n",
       "14346  who to blame for the wreck if there were possi...   \n",
       "14347  Should the manufacturer of the car be blamed o...   \n",
       "14348  With all these things that could possibly go w...   \n",
       "\n",
       "             discourse_type discourse_effectiveness  \n",
       "14340                  Lead                Adequate  \n",
       "14341              Position               Effective  \n",
       "14342                 Claim               Effective  \n",
       "14343              Evidence               Effective  \n",
       "14344                 Claim               Effective  \n",
       "14345              Evidence               Effective  \n",
       "14346                 Claim               Effective  \n",
       "14347              Evidence               Effective  \n",
       "14348  Concluding Statement                Adequate  "
      ]
     },
     "execution_count": 3,
     "metadata": {},
     "output_type": "execute_result"
    }
   ],
   "source": [
    "train_df[train_df.essay_id == '00066EA9880D']"
   ]
  },
  {
   "cell_type": "code",
   "execution_count": 4,
   "metadata": {},
   "outputs": [
    {
     "name": "stdout",
     "output_type": "stream",
     "text": [
      "(10,)\n",
      "clean Done\n"
     ]
    }
   ],
   "source": [
    "def basic_cleaning(text):\n",
    "    \"\"\"\n",
    "    clear url/ not alpha/ fuck-bitch swear\n",
    "    \"\"\"\n",
    "    text = re.sub(r'https?://www\\.\\S+\\.cm', '', text)\n",
    "    text = re.sub(r'[^a-zA-Z|\\s]', '', text)\n",
    "    text = re.sub(r'\\*+', 'swear', text)\n",
    "    return text\n",
    "\n",
    "def remove_html(text):\n",
    "    html = re.compile(r'<.*?>')\n",
    "    return html.sub(r'',text)\n",
    "\n",
    "def remove_emoji(text):\n",
    "    #emoticons\n",
    "    #symbols & pictographs\n",
    "    #transport & map symbols\n",
    "    #flags (iOS)\n",
    "    emoji_pattern = re.compile(\"[\"\\\n",
    "        u\"\\U0001F600-\\U0001F64F|\"\\\n",
    "        u\"\\U0001F300-\\U0001F5FF|\"\\\n",
    "        u\"\\U0001F680-\\U0001F6FF|\"\\\n",
    "        u\"\\U0001F1E0-\\U0001F1FF|\"\\\n",
    "        u\"\\U00002702-\\U000027B0|\"\\\n",
    "        u\"\\U000024C2-\\U0001F251\"\\\n",
    "        \"]+\", flags=re.UNICODE)\n",
    "    return emoji_pattern.sub(r'', text)\n",
    "\n",
    "# remove repeated characters\n",
    "def remove_multiplechars(text):\n",
    "    \"\"\"\n",
    "    for example, so we have “way” instead of “waaaayyyyy”\n",
    "    \"\"\"\n",
    "    text = re.sub(r'(.)\\1{3,}', r'\\1', text)\n",
    "    return text\n",
    "\n",
    "def clean(df):\n",
    "    for col in ['discourse_text']:#,'selected_text']:\n",
    "        df[col] = df[col].astype(str).apply(lambda x:basic_cleaning(x))\n",
    "        df[col] = df[col].astype(str).apply(lambda x:remove_emoji(x))\n",
    "        df[col] = df[col].astype(str).apply(lambda x:remove_html(x))\n",
    "        df[col] = df[col].astype(str).apply(lambda x:remove_multiplechars(x))\n",
    "    return df.sample(frac=1)\n",
    "\n",
    "train_df = clean(train_df)\n",
    "train_df_selection = train_df.sample(frac=1)\n",
    "X_tr = train_df_selection.discourse_text.values\n",
    "\n",
    "test_df = clean(test_df)\n",
    "test_df_selection = test_df.sample(frac=1)\n",
    "X_te = test_df_selection.discourse_text.values\n",
    "print(X_te.shape)\n",
    "print('clean Done')"
   ]
  },
  {
   "cell_type": "code",
   "execution_count": 5,
   "metadata": {},
   "outputs": [
    {
     "name": "stdout",
     "output_type": "stream",
     "text": [
      "Index(['Claim', 'Concluding Statement', 'Counterclaim', 'Evidence', 'Lead',\n",
      "       'Position', 'Rebuttal'],\n",
      "      dtype='object') Index(['Adequate', 'Effective', 'Ineffective'], dtype='object')\n"
     ]
    }
   ],
   "source": [
    "y_tr1, uniques_tr1 = pd.factorize(train_df_selection.discourse_type, sort=True)\n",
    "y_tr2, uniques_tr2 = pd.factorize(train_df_selection.discourse_effectiveness, sort=True)\n",
    "print(uniques_tr1, uniques_tr2)"
   ]
  },
  {
   "cell_type": "markdown",
   "metadata": {},
   "source": [
    "# 2- Skip-Gram Embeding"
   ]
  },
  {
   "cell_type": "markdown",
   "metadata": {},
   "source": [
    "## 2-1 embeding data generating"
   ]
  },
  {
   "cell_type": "code",
   "execution_count": 6,
   "metadata": {},
   "outputs": [],
   "source": [
    "files_list = list(data_path.joinpath('train').iterdir()) +  list(data_path.joinpath('test').iterdir()) "
   ]
  },
  {
   "cell_type": "code",
   "execution_count": 13,
   "metadata": {},
   "outputs": [
    {
     "data": {
      "application/vnd.jupyter.widget-view+json": {
       "model_id": "88a999e71b4341109bc1074e4fbf1810",
       "version_major": 2,
       "version_minor": 0
      },
      "text/plain": [
       "0it [00:00, ?it/s]"
      ]
     },
     "metadata": {},
     "output_type": "display_data"
    },
    {
     "data": {
      "application/vnd.jupyter.widget-view+json": {
       "model_id": "8ebcc1599493456f9d6baed34de7dcc9",
       "version_major": 2,
       "version_minor": 0
      },
      "text/plain": [
       "0it [00:00, ?it/s]"
      ]
     },
     "metadata": {},
     "output_type": "display_data"
    },
    {
     "name": "stdout",
     "output_type": "stream",
     "text": [
      "dataGenerator Done\n"
     ]
    }
   ],
   "source": [
    "class dataGenerator(object):\n",
    "    \"\"\"\n",
    "    https://arxiv.org/pdf/1310.4546.pdf\n",
    "    \"\"\"\n",
    "    def __init__(self, file_list, min_count=5, min_random_unk_rate=0.2):\n",
    "        self.min_count = min_count\n",
    "        self.min_random_unk_rate = min_random_unk_rate\n",
    "        self.stop_words = []\n",
    "        self.word_count_sum = 0\n",
    "        self.word_count = 0\n",
    "        self.word2id = {}\n",
    "        self.id2word = {}\n",
    "        self.wordid_freq = {}\n",
    "        self.word_freq = {}\n",
    "        self.file_list = file_list\n",
    "        self._init_dict()\n",
    "        self.sample_table = self.__init_sample_table()\n",
    "        self.drop_counts = 0\n",
    "\n",
    "\n",
    "    def _init_dict(self):\n",
    "        tq_bar = tqdm(enumerate(self.file_list))\n",
    "        for idx, f_ in tq_bar:\n",
    "            tq_bar.set_description(f'file_num={idx+1}')\n",
    "            input_file = open(f_)\n",
    "            for line in input_file:\n",
    "                line_words = [i.lower() for i in basic_cleaning(line.strip()).split()]\n",
    "                self.word_count_sum += len(line_words)\n",
    "                for i, w in enumerate(line_words):\n",
    "                    self.word_freq[w] = self.word_freq.get(w, 0) + 1\n",
    "            tq_bar.update()\n",
    "        \n",
    "        v_arr = np.array(list(self.word_freq.values()))\n",
    "        self.drop_counts = np.percentile(v_arr[v_arr>1], 99.95)\n",
    "        tq_bar = tqdm(enumerate(self.file_list))\n",
    "        for i, w in enumerate(self.word_freq):\n",
    "            tq_bar.set_description(f'word:{i+1}')\n",
    "            w_freq = self.word_freq[w]\n",
    "            # for train & test OOV\n",
    "            if (w_freq < self.min_count) and (np.random.random() < self.min_random_unk_rate):\n",
    "                w = 'unk'\n",
    "                w_freq += self.wordid_freq.get(self.word2id[w], 0) if w in self.word2id else 0\n",
    "            if (w_freq < self.min_count) and (w != 'unk') :\n",
    "                self.word_count_sum -= w_freq\n",
    "                continue\n",
    "            if w_freq >= self.drop_counts:\n",
    "                self.word_count_sum -= w_freq\n",
    "                self.stop_words.append(w)\n",
    "                continue\n",
    "            if (w == 'unk') and ('unk' in self.word2id):\n",
    "                self.wordid_freq[self.word2id[w]] = w_freq\n",
    "                continue\n",
    "\n",
    "            self.word2id[w] = len(self.word2id)\n",
    "            self.id2word[len(self.id2word)] = w\n",
    "            self.wordid_freq[len(self.id2word) - 1] = w_freq\n",
    "            tq_bar.update()\n",
    "        self.word_count = len(self.word2id)\n",
    "        \n",
    "        \n",
    "\n",
    "    def context2id(self, line_str, w2id=None):\n",
    "        w2id = w2id if w2id is not None else self.word2id\n",
    "        line = [i.lower() for i in basic_cleaning(line_str.strip()).split() if i not in self.stop_words]\n",
    "        out = []\n",
    "        for i in line:\n",
    "            w_id = w2id.get(i, -1)\n",
    "            # OOV\n",
    "            if (w_id == -1) and (np.random.random() < self.min_random_unk_rate):\n",
    "                w_id = w2id['unk']\n",
    "            if w_id == -1:\n",
    "                continue\n",
    "            out.append(w_id)\n",
    "        return out\n",
    "\n",
    "    def file2id(self, file_name, w2id=None):\n",
    "        w2id = w2id if w2id is not None else self.word2id\n",
    "        input_file = open(file_name)\n",
    "        out = []\n",
    "        for line_str in input_file:\n",
    "            out.extend(self.context2id(line_str, w2id))\n",
    "        return out\n",
    "\n",
    "    def __init_sample_table(self):\n",
    "        wordid_freq = self.wordid_freq\n",
    "        sample_table = []\n",
    "        pow_freq = np.array(list(wordid_freq.values())) ** 0.78\n",
    "        pow_freq_sum = np.sum(pow_freq)\n",
    "        word_cnt = np.round(pow_freq / pow_freq_sum * 1e8)\n",
    "        for idx, multi_times in enumerate(word_cnt):\n",
    "            sample_table.extend([idx] * int(multi_times))\n",
    "        return np.array(sample_table).flatten()\n",
    "\n",
    "    def get_neg_samples(self, pos_pair, neg_cnt):\n",
    "        return np.random.choice(self.sample_table, size=(len(pos_pair), neg_cnt)).tolist()\n",
    "\n",
    "    def subsample(self, pos_pair):\n",
    "        w_func = lambda x: max( 0, 1 - np.sqrt(10e-5/x) )\n",
    "        drop_w = [w_func(self.wordid_freq[i[0]]/self.word_count_sum) for i in pos_pair]\n",
    "        drop_bool = np.random.binomial(1, p=drop_w, size=len(drop_w)).astype(bool)\n",
    "        return np.array(pos_pair)[~drop_bool].tolist()\n",
    "\n",
    "\n",
    "# test_file_list = ['../input/feedback-prize-effectiveness/train/00066EA9880D.txt', \n",
    "# '../input/feedback-prize-effectiveness/train/000E6DE9E817.txt']\n",
    "data_g = dataGenerator(files_list)\n",
    "print('dataGenerator Done')"
   ]
  },
  {
   "cell_type": "code",
   "execution_count": 14,
   "metadata": {},
   "outputs": [
    {
     "data": {
      "text/plain": [
       "['a', 'to', 'that', 'of', 'the', 'and', 'in', 'is']"
      ]
     },
     "execution_count": 14,
     "metadata": {},
     "output_type": "execute_result"
    }
   ],
   "source": [
    "data_g.stop_words"
   ]
  },
  {
   "cell_type": "code",
   "execution_count": 15,
   "metadata": {},
   "outputs": [
    {
     "name": "stdout",
     "output_type": "stream",
     "text": [
      "get_neg_samples Done\n"
     ]
    }
   ],
   "source": [
    "def get_batch_pair(wordid_list, batch_size, window_size, idx, word_pair_queue):\n",
    "    while len(word_pair_queue) < batch_size:\n",
    "        if idx ==len(wordid_list):\n",
    "            idx=0\n",
    "        for _ in range(len(wordid_list)):\n",
    "            for i in range(max(idx - window_size, 0), min(idx + window_size+1, len(wordid_list)-1)):\n",
    "                w = wordid_list[idx]\n",
    "                v = wordid_list[i]\n",
    "                if idx == i:\n",
    "                    continue\n",
    "                word_pair_queue.append((w, v))\n",
    "            idx += 1\n",
    "        res_pair = []\n",
    "        for _ in range(batch_size):\n",
    "            res_pair.append(\n",
    "                word_pair_queue.popleft()\n",
    "            )\n",
    "        return res_pair\n",
    "    \n",
    "def get_new_batch_pair(wordid_list, window_size):\n",
    "    word_pair_queue = []\n",
    "    for idx in range(len(wordid_list)):\n",
    "        for i in range(max(idx - window_size, 0), min(idx + window_size+1, len(wordid_list)-1)):\n",
    "            w = wordid_list[idx]\n",
    "            v = wordid_list[i]\n",
    "            if idx == i:\n",
    "                continue\n",
    "            if w == v:\n",
    "                continue\n",
    "            word_pair_queue.append((w, v))\n",
    "    return word_pair_queue\n",
    "\n",
    "\n",
    "wordid_list = data_g.file2id(files_list[20])\n",
    "# pos_pair = get_batch_pair(wordid_list, batch_size=32, window_size=3, idx=0, word_pair_queue=deque())\n",
    "pos_pair = get_new_batch_pair(wordid_list, window_size=5)\n",
    "neg_ = data_g.get_neg_samples(pos_pair, 5)\n",
    "print('get_neg_samples Done')"
   ]
  },
  {
   "cell_type": "markdown",
   "metadata": {},
   "source": [
    "## 2-2 pytorch skip-gram model"
   ]
  },
  {
   "cell_type": "code",
   "execution_count": 66,
   "metadata": {},
   "outputs": [],
   "source": [
    "import torch\n",
    "from torch import nn\n",
    "from torch.nn import functional as F\n",
    "import typing as typ\n",
    "from torch.utils.data import DataLoader, TensorDataset, Dataset\n",
    "from torch.optim import AdamW, Adam, SparseAdam, SGD\n",
    "from sklearn.metrics import accuracy_score\n",
    "\n",
    "\n",
    "class skpDataset(Dataset):\n",
    "    def __init__(self, pos_w, pos_v, neg_v):\n",
    "        self.pos_w = pos_w\n",
    "        self.pos_v = pos_v\n",
    "        self.neg_v = neg_v\n",
    "\n",
    "    # 读取单个样本\n",
    "    def __getitem__(self, idx):\n",
    "        item = {}\n",
    "        item['pos_w'] = torch.LongTensor([self.pos_w[idx]])\n",
    "        item['pos_v'] = torch.LongTensor([self.pos_v[idx]])\n",
    "        item['neg_v'] = torch.LongTensor([self.neg_v[idx].tolist()])\n",
    "        return item\n",
    "    \n",
    "    def __len__(self):\n",
    "        return len(self.pos_w)\n",
    "\n",
    "\n",
    "\n",
    "class skipGramModel(nn.Module):\n",
    "    def __init__(self, vocab_size, embed_size):\n",
    "        super(skipGramModel, self).__init__()\n",
    "        self.vocab_size = vocab_size\n",
    "        self.embed_size = embed_size\n",
    "        self.w_embed = nn.Embedding(vocab_size, embed_size, sparse=True)\n",
    "        self.v_embed = nn.Embedding(vocab_size, embed_size, sparse=True)\n",
    "        self._init_emb()\n",
    "    \n",
    "    def _init_emb(self):\n",
    "        init_ = 0.5 / self.embed_size\n",
    "        # 中心词矩阵\n",
    "        self.w_embed.weight.data.uniform_(-init_, init_)\n",
    "        # 周围词矩阵\n",
    "        self.v_embed.weight.data.uniform_(-0, 0)\n",
    "\n",
    "\n",
    "    def forward(self, pos_w, pos_v, neg_v):\n",
    "        \"\"\"_summary_\n",
    "        目标是输出词向量, 所以foward可以直接输出loss便于backward\n",
    "        Args:\n",
    "            pos_w (_type_): 中心词\n",
    "            pos_v (_type_): 周围词\n",
    "            neg_v (_type_): 负采样  1个中心词对应n个负样本\n",
    "        \n",
    "        \"\"\"\n",
    "        # 中心词向量\n",
    "        embed_w = self.w_embed(pos_w.squeeze(1) )\n",
    "        # 周围词向量\n",
    "        embed_v = self.v_embed(pos_v.squeeze(1) )\n",
    "        neg_embed_v = self.v_embed(neg_v.squeeze(1) )\n",
    "        # 元素相乘\n",
    "        sc = torch.mul(embed_w, embed_v).sum(dim=1)\n",
    "        sc = torch.clamp(sc, min=-10, max=10)\n",
    "        sc = F.logsigmoid(sc)\n",
    "        # bt * sample_num * emb_size   bt * embed_size * 1\n",
    "        neg_sc = torch.bmm(neg_embed_v, embed_w.unsqueeze(2))\n",
    "        neg_sc = torch.clamp(neg_sc, min=-10, max=10)\n",
    "        neg_sc = F.logsigmoid(-1 * neg_sc)\n",
    "        loss = -(torch.sum(sc) + torch.sum(neg_sc))\n",
    "        return loss\n",
    "\n",
    "\n",
    "    def save_embedding(self, id2word, filename):\n",
    "        embed_1 = self.w_embed.weight.data.cpu().numpy()\n",
    "        embed_2 = self.v_embed.weight.data.cpu().numpy()\n",
    "        embed = (embed_1 + embed_2) / 2\n",
    "        f = open(filename, 'w')\n",
    "        for wid, w in id2word.items():\n",
    "            e = embed[wid]\n",
    "            e = ' '.join(map(lambda x:str(x), e))\n",
    "            f.write(f'{w} {e}\\n')\n",
    "\n",
    "    def compile(self, \n",
    "            loss: typ.Callable,\n",
    "            optimizer: typ.Callable,\n",
    "            learning_rate: float,\n",
    "            metrics: typ.List[typ.Callable],\n",
    "            verbose: int=100):\n",
    "        self.verbose = verbose\n",
    "        b = torch.cuda.is_available()\n",
    "        if(b):\n",
    "            self.device = torch.device(\"cuda\")\n",
    "        else:\n",
    "            self.device = torch.device(\"cpu\")\n",
    "\n",
    "        self.to(self.device)\n",
    "        self.loss_fn = loss\n",
    "        self.optim = optimizer(self.parameters(), lr=learning_rate)\n",
    "        self.metrics = metrics\n",
    "        self.iter_num = 0\n",
    "\n",
    "    def _training_step(self, pos_w, pos_v, neg_v):\n",
    "        pos_w = pos_w.to(self.device)\n",
    "        pos_v = pos_v.to(self.device)\n",
    "        neg_v = neg_v.to(self.device)\n",
    "        self.epoch_steps += 1\n",
    "        self.optim.zero_grad()\n",
    "        loss =  self.forward(pos_w, pos_v, neg_v)\n",
    "        self.epoch_loss += loss.detach().cpu().numpy()\n",
    "        loss.backward()\n",
    "        try:\n",
    "            torch.nn.utils.clip_grad_norm_(self.parameters(), 1.0)\n",
    "        except Exception as e:\n",
    "            pass\n",
    "        self.optim.step()\n",
    "        self.iter_num += 1\n",
    "        return self.epoch_loss, loss\n",
    "    \n",
    "    def train_one_epoch(self, dataloader, ep_idx=0):\n",
    "        self.epoch_loss = 0\n",
    "        self.epoch_samples = 0\n",
    "        self.epoch_steps = 0\n",
    "        tqdm_bar = tqdm(dataloader)\n",
    "        for batch in tqdm_bar:\n",
    "            loss, last_loss = self._training_step(batch['pos_w'], batch['pos_v'], batch['neg_v'])\n",
    "            loss_p = loss/self.epoch_steps\n",
    "            tqdm_bar.set_description(f'[ Train-Epoch {ep_idx+1} ]')\n",
    "            tqdm_bar.set_postfix({\"loss\": f'{loss_p:.5f}', \"last_loss\" : f\"{last_loss:.5f}\"})\n",
    "            tqdm_bar.update()\n",
    "        print(f'[epoch - {ep_idx}] loss: {loss_p:.5f} last_loss:{last_loss:.5f}')\n",
    "        \n",
    "    def fit(self, pos_w, pos_v, neg_v,\n",
    "            batch_size: int=32,\n",
    "            epochs: int=5,\n",
    "            ):\n",
    "        for ep in range(epochs) :\n",
    "            tr_data = skpDataset(pos_w, pos_v, neg_v)\n",
    "            train_loader = DataLoader(tr_data, batch_size=batch_size, shuffle=True)\n",
    "            self.train_one_epoch(train_loader, ep)"
   ]
  },
  {
   "cell_type": "code",
   "execution_count": 18,
   "metadata": {},
   "outputs": [
    {
     "name": "stdout",
     "output_type": "stream",
     "text": [
      "7556\n"
     ]
    }
   ],
   "source": [
    "print(len(data_g.wordid_freq))\n",
    "skp_model = skipGramModel(vocab_size=len(data_g.wordid_freq), embed_size=256)"
   ]
  },
  {
   "cell_type": "code",
   "execution_count": 82,
   "metadata": {},
   "outputs": [
    {
     "data": {
      "application/vnd.jupyter.widget-view+json": {
       "model_id": "873608eb27364398910dc8713a131b0b",
       "version_major": 2,
       "version_minor": 0
      },
      "text/plain": [
       "  0%|          | 0/4192 [00:00<?, ?it/s]"
      ]
     },
     "metadata": {},
     "output_type": "display_data"
    },
    {
     "name": "stdout",
     "output_type": "stream",
     "text": [
      "get_new_batch_pair Done\n",
      "-------------------------------------------------- \n",
      "lr: 0.015\n"
     ]
    },
    {
     "data": {
      "application/vnd.jupyter.widget-view+json": {
       "model_id": "d55ed49b97354969b8dfcc68d137f9f5",
       "version_major": 2,
       "version_minor": 0
      },
      "text/plain": [
       "  0%|          | 0/2393 [00:00<?, ?it/s]"
      ]
     },
     "metadata": {},
     "output_type": "display_data"
    },
    {
     "name": "stdout",
     "output_type": "stream",
     "text": [
      "[epoch - 0] loss: 9792.64226 last_loss:1794.67529\n"
     ]
    },
    {
     "data": {
      "application/vnd.jupyter.widget-view+json": {
       "model_id": "6473fdefdacd432c8682337b475b5b86",
       "version_major": 2,
       "version_minor": 0
      },
      "text/plain": [
       "  0%|          | 0/2393 [00:00<?, ?it/s]"
      ]
     },
     "metadata": {},
     "output_type": "display_data"
    },
    {
     "name": "stdout",
     "output_type": "stream",
     "text": [
      "[epoch - 1] loss: 9739.01751 last_loss:1664.39697\n"
     ]
    },
    {
     "data": {
      "application/vnd.jupyter.widget-view+json": {
       "model_id": "e8144bfca99843dc8f30a4e7002e0786",
       "version_major": 2,
       "version_minor": 0
      },
      "text/plain": [
       "  0%|          | 0/2393 [00:00<?, ?it/s]"
      ]
     },
     "metadata": {},
     "output_type": "display_data"
    },
    {
     "name": "stdout",
     "output_type": "stream",
     "text": [
      "[epoch - 2] loss: 9702.87543 last_loss:1740.50049\n"
     ]
    },
    {
     "data": {
      "application/vnd.jupyter.widget-view+json": {
       "model_id": "490ee901cf254c4a949e56fa72824af2",
       "version_major": 2,
       "version_minor": 0
      },
      "text/plain": [
       "  0%|          | 0/2393 [00:00<?, ?it/s]"
      ]
     },
     "metadata": {},
     "output_type": "display_data"
    },
    {
     "name": "stdout",
     "output_type": "stream",
     "text": [
      "[epoch - 3] loss: 9686.50626 last_loss:1563.96313\n"
     ]
    },
    {
     "data": {
      "application/vnd.jupyter.widget-view+json": {
       "model_id": "630ab5e58e5f4ad1adeedbb216d9f99e",
       "version_major": 2,
       "version_minor": 0
      },
      "text/plain": [
       "  0%|          | 0/2393 [00:00<?, ?it/s]"
      ]
     },
     "metadata": {},
     "output_type": "display_data"
    },
    {
     "name": "stdout",
     "output_type": "stream",
     "text": [
      "[epoch - 4] loss: 9670.05434 last_loss:1758.04504\n"
     ]
    }
   ],
   "source": [
    "pos_pair = []\n",
    "neg_ = []\n",
    "for f in tqdm(files_list):\n",
    "    wordid_list = data_g.file2id(f)\n",
    "    tmp_pair = get_new_batch_pair(wordid_list, window_size=5)\n",
    "    tmp_pair = data_g.subsample(tmp_pair)\n",
    "    pos_pair.extend(tmp_pair)\n",
    "    neg_.extend(data_g.get_neg_samples(tmp_pair,  5))\n",
    "    \n",
    "print('get_new_batch_pair Done')\n",
    "pos_pair = np.array(pos_pair)\n",
    "\n",
    "lr_ = 0.015 # 0.015 # \n",
    "print('--'*25, '\\nlr:', lr_ )\n",
    "skp_model.compile(\n",
    "    loss=nn.CrossEntropyLoss(),\n",
    "    optimizer=SparseAdam,\n",
    "    learning_rate=lr_,\n",
    "    metrics=[accuracy_score],\n",
    "    verbose=100\n",
    ")\n",
    "skp_model.fit(pos_pair[:, 0], pos_pair[:, 1], np.array(neg_), batch_size=2048, epochs=5)\n",
    "# [epoch - 4] loss: 10399.28735 last_loss:838.21423 0.03\n"
   ]
  },
  {
   "cell_type": "markdown",
   "metadata": {},
   "source": [
    "# valuate"
   ]
  },
  {
   "cell_type": "code",
   "execution_count": 87,
   "metadata": {},
   "outputs": [],
   "source": [
    "import matplotlib.pyplot as plt\n",
    "plt.style.use('ggplot')\n",
    "\n",
    "def plot_embs(emb, words, words2ids_dict):\n",
    "    for w in words:\n",
    "        w_emb = emb[words2ids_dict[w]]\n",
    "        plt.scatter(w_emb[0], w_emb[1])\n",
    "        plt.text(w_emb[0], w_emb[1], w)\n",
    "    \n",
    "    plt.show()\n",
    "\n",
    "\n",
    "def sp_plot_emb(emb, similar_pair1, similar_pair2, words2ids_dict):\n",
    "    s1_a = emb[words2ids_dict[similar_pair1[0]]]\n",
    "    s1_b = emb[words2ids_dict[similar_pair1[1]]]\n",
    "    plt.scatter(s1_a[0], s1_a[1])\n",
    "    plt.text(s1_a[0], s1_a[1], similar_pair1[0])\n",
    "    plt.scatter(s1_b[0], s1_b[1])\n",
    "    plt.text(s1_b[0], s1_b[1], similar_pair1[1])\n",
    "\n",
    "    s1_attr = s1_a - s1_b\n",
    "    attr1=f'{similar_pair1[0]}-{similar_pair1[1]}'\n",
    "    s2_a = emb[words2ids_dict[similar_pair2[0]]]\n",
    "    s2_b = emb[words2ids_dict[similar_pair2[1]]]\n",
    "    plt.scatter(s2_a[0], s2_a[1])\n",
    "    plt.text(s2_a[0], s2_a[1], similar_pair2[0])\n",
    "    plt.scatter(s2_b[0], s2_b[1])\n",
    "    plt.text(s2_b[0], s2_b[1], similar_pair2[1])\n",
    "    s2_attr = s2_a - s2_b\n",
    "    attr2=f'{similar_pair2[0]}-{similar_pair2[1]}'\n",
    "\n",
    "    s2_b_add_attr = s2_b + s1_attr\n",
    "    plt.scatter(s2_b_add_attr[0], s2_b_add_attr[1])\n",
    "    plt.text(s2_b_add_attr[0], s2_b_add_attr[1], similar_pair2[1] + f' + {attr1}')\n",
    "\n",
    "    s1_b_add_attr = s1_b + s2_attr\n",
    "    plt.scatter(s1_b_add_attr[0], s1_b_add_attr[1])\n",
    "    plt.text(s1_b_add_attr[0], s1_b_add_attr[1], similar_pair1[1] + f' + {attr2}')\n",
    "    plt.show()"
   ]
  },
  {
   "cell_type": "code",
   "execution_count": 88,
   "metadata": {},
   "outputs": [
    {
     "data": {
      "text/plain": [
       "(1619, 4463, 793, 4517, 1359)"
      ]
     },
     "execution_count": 88,
     "metadata": {},
     "output_type": "execute_result"
    }
   ],
   "source": [
    "data_g.word2id['man'], data_g.word2id['king'], data_g.word2id['woman'], data_g.word2id['father'], data_g.word2id['mother']"
   ]
  },
  {
   "cell_type": "code",
   "execution_count": 89,
   "metadata": {},
   "outputs": [
    {
     "name": "stderr",
     "output_type": "stream",
     "text": [
      "Exception ignored on calling ctypes callback function: <function _ThreadpoolInfo._find_modules_with_dl_iterate_phdr.<locals>.match_module_callback at 0x7f6a106c4d30>\n",
      "Traceback (most recent call last):\n",
      "  File \"/home/scc/anaconda3/envs/sccRL/lib/python3.10/site-packages/threadpoolctl.py\", line 400, in match_module_callback\n",
      "    self._make_module_from_path(filepath)\n",
      "  File \"/home/scc/anaconda3/envs/sccRL/lib/python3.10/site-packages/threadpoolctl.py\", line 515, in _make_module_from_path\n",
      "    module = module_class(filepath, prefix, user_api, internal_api)\n",
      "  File \"/home/scc/anaconda3/envs/sccRL/lib/python3.10/site-packages/threadpoolctl.py\", line 606, in __init__\n",
      "    self.version = self.get_version()\n",
      "  File \"/home/scc/anaconda3/envs/sccRL/lib/python3.10/site-packages/threadpoolctl.py\", line 646, in get_version\n",
      "    config = get_config().split()\n",
      "AttributeError: 'NoneType' object has no attribute 'split'\n"
     ]
    }
   ],
   "source": [
    "from sklearn.manifold import TSNE\n",
    "\n",
    "embed_1 = skp_model.w_embed.weight.data.cpu().numpy()\n",
    "embed_2 = skp_model.v_embed.weight.data.cpu().numpy()\n",
    "embed = (embed_1 + embed_2) / 2\n",
    "\n",
    "embed_dim2 = TSNE(n_components=2).fit_transform(embed)"
   ]
  },
  {
   "cell_type": "code",
   "execution_count": 90,
   "metadata": {},
   "outputs": [
    {
     "data": {
      "image/png": "[encoded data removed]",
      "text/plain": [
       "<Figure size 640x480 with 1 Axes>"
      ]
     },
     "metadata": {},
     "output_type": "display_data"
    },
    {
     "data": {
      "image/png": "[encoded data removed]",
      "text/plain": [
       "<Figure size 640x480 with 1 Axes>"
      ]
     },
     "metadata": {},
     "output_type": "display_data"
    }
   ],
   "source": [
    "plot_embs(embed_dim2, ['man', 'woman', 'father', 'mother'], data_g.word2id)\n",
    "\n",
    "sp_plot_emb(embed_dim2, ['father', 'man'], ['mother', 'woman'], data_g.word2id)"
   ]
  },
  {
   "cell_type": "code",
   "execution_count": null,
   "metadata": {},
   "outputs": [],
   "source": []
  }
 ],
 "metadata": {
  "kernelspec": {
   "display_name": "sccRL",
   "language": "python",
   "name": "python3"
  },
  "language_info": {
   "codemirror_mode": {
    "name": "ipython",
    "version": 3
   },
   "file_extension": ".py",
   "mimetype": "text/x-python",
   "name": "python",
   "nbconvert_exporter": "python",
   "pygments_lexer": "ipython3",
   "version": "3.10.9"
  },
  "orig_nbformat": 4
 },
 "nbformat": 4,
 "nbformat_minor": 2
}
