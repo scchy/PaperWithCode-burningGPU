{
 "cells": [
  {
   "cell_type": "code",
   "execution_count": 11,
   "metadata": {},
   "outputs": [],
   "source": [
    "import matplotlib.pyplot as plt\n",
    "import numpy as np\n",
    "import os\n",
    "import torch\n",
    "import torch.utils.data as data\n",
    "from torch.utils.data import DataLoader\n",
    "import torch.utils.data.sampler as sampler\n",
    "import torch.nn as nn\n",
    "import torch.nn.functional as F\n",
    "from torchvision import datasets, transforms\n",
    "from tqdm.auto import tqdm\n",
    "import random"
   ]
  },
  {
   "cell_type": "code",
   "execution_count": 3,
   "metadata": {},
   "outputs": [
    {
     "name": "stdout",
     "output_type": "stream",
     "text": [
      "Set env random_seed = 0\n"
     ]
    }
   ],
   "source": [
    "def all_seed(seed=6666, env=None):\n",
    "    if env is not None:\n",
    "        env.seed(seed)\n",
    "        env.action_space.seed(seed)\n",
    "    np.random.seed(seed)\n",
    "    random.seed(seed)\n",
    "    # CPU\n",
    "    torch.manual_seed(seed)\n",
    "    # GPU\n",
    "    if torch.cuda.is_available():\n",
    "        torch.cuda.manual_seed_all(seed)\n",
    "        torch.cuda.manual_seed(seed)\n",
    "    # python全局\n",
    "    os.environ['PYTHONHASHSEED'] = str(seed)\n",
    "    # cudnn\n",
    "    torch.backends.cudnn.deterministic = True\n",
    "    torch.backends.cudnn.benchmark = False\n",
    "    torch.backends.cudnn.enabled = False\n",
    "    print(f'Set env random_seed = {seed}')\n",
    "\n",
    "all_seed(0)"
   ]
  },
  {
   "attachments": {},
   "cell_type": "markdown",
   "metadata": {},
   "source": [
    "# dataPrepare"
   ]
  },
  {
   "cell_type": "code",
   "execution_count": 4,
   "metadata": {},
   "outputs": [],
   "source": [
    "# 旋转 MNIST 数据生成 5 个任务\n",
    "def _rotate_image(image, angle):\n",
    "    if angle is None:\n",
    "        return image\n",
    "    image = transforms.functional.rotate(image, angle=angle)\n",
    "    return image\n",
    "\n",
    "\n",
    "def get_transform(angle=None):\n",
    "    transform = transforms.Compose([\n",
    "        transforms.ToTensor(),\n",
    "       transforms.Lambda(lambda x: _rotate_image(x, angle)),\n",
    "       Pad(28)\n",
    "    ])\n",
    "    return transform\n",
    "\n",
    "\n",
    "class Pad(object):\n",
    "    def __init__(self, size, fill=0, padding_mode='constant'):\n",
    "        self.size = size\n",
    "        self.fill = fill\n",
    "        self.padding_mode = padding_mode\n",
    "\n",
    "    def __call__(self, img):\n",
    "        # 输入图片的长宽是一致的，如果输入图片的size比期望的size小时，对图片的四周进行扩充\n",
    "        img_size = img.size()[1]\n",
    "        assert ((self.size - img_size) % 2 == 0)\n",
    "        padding = (self.size - img_size) // 2\n",
    "        padding = (padding, padding, padding, padding)\n",
    "        return F.pad(img, padding, self.padding_mode, self.fill)\n",
    "\n",
    "    \n",
    "class Data():\n",
    "    def __init__(self, path, train=True, angle=None):\n",
    "        transform = get_transform(angle)\n",
    "        self.dataset = datasets.MNIST(root=os.path.join(path, \"MNIST\"), transform=transform, train=train, download=True)"
   ]
  },
  {
   "cell_type": "code",
   "execution_count": 5,
   "metadata": {},
   "outputs": [
    {
     "name": "stdout",
     "output_type": "stream",
     "text": [
      "Downloading http://yann.lecun.com/exdb/mnist/train-images-idx3-ubyte.gz\n",
      "Downloading http://yann.lecun.com/exdb/mnist/train-images-idx3-ubyte.gz to data/MNIST/MNIST/raw/train-images-idx3-ubyte.gz\n"
     ]
    },
    {
     "name": "stderr",
     "output_type": "stream",
     "text": [
      "100%|██████████| 9912422/9912422 [00:26<00:00, 369436.22it/s]\n"
     ]
    },
    {
     "name": "stdout",
     "output_type": "stream",
     "text": [
      "Extracting data/MNIST/MNIST/raw/train-images-idx3-ubyte.gz to data/MNIST/MNIST/raw\n",
      "\n",
      "Downloading http://yann.lecun.com/exdb/mnist/train-labels-idx1-ubyte.gz\n",
      "Failed to download (trying next):\n",
      "<urlopen error [Errno -3] Temporary failure in name resolution>\n",
      "\n",
      "Downloading https://ossci-datasets.s3.amazonaws.com/mnist/train-labels-idx1-ubyte.gz\n",
      "Downloading https://ossci-datasets.s3.amazonaws.com/mnist/train-labels-idx1-ubyte.gz to data/MNIST/MNIST/raw/train-labels-idx1-ubyte.gz\n"
     ]
    },
    {
     "name": "stderr",
     "output_type": "stream",
     "text": [
      "100%|██████████| 28881/28881 [00:00<00:00, 61057.37it/s]\n"
     ]
    },
    {
     "name": "stdout",
     "output_type": "stream",
     "text": [
      "Extracting data/MNIST/MNIST/raw/train-labels-idx1-ubyte.gz to data/MNIST/MNIST/raw\n",
      "\n",
      "Downloading http://yann.lecun.com/exdb/mnist/t10k-images-idx3-ubyte.gz\n",
      "Downloading http://yann.lecun.com/exdb/mnist/t10k-images-idx3-ubyte.gz to data/MNIST/MNIST/raw/t10k-images-idx3-ubyte.gz\n"
     ]
    },
    {
     "name": "stderr",
     "output_type": "stream",
     "text": [
      "100%|██████████| 1648877/1648877 [00:07<00:00, 206490.57it/s]\n"
     ]
    },
    {
     "name": "stdout",
     "output_type": "stream",
     "text": [
      "Extracting data/MNIST/MNIST/raw/t10k-images-idx3-ubyte.gz to data/MNIST/MNIST/raw\n",
      "\n",
      "Downloading http://yann.lecun.com/exdb/mnist/t10k-labels-idx1-ubyte.gz\n",
      "Downloading http://yann.lecun.com/exdb/mnist/t10k-labels-idx1-ubyte.gz to data/MNIST/MNIST/raw/t10k-labels-idx1-ubyte.gz\n"
     ]
    },
    {
     "name": "stderr",
     "output_type": "stream",
     "text": [
      "100%|██████████| 4542/4542 [00:00<00:00, 14725.35it/s]"
     ]
    },
    {
     "name": "stdout",
     "output_type": "stream",
     "text": [
      "Extracting data/MNIST/MNIST/raw/t10k-labels-idx1-ubyte.gz to data/MNIST/MNIST/raw\n",
      "\n"
     ]
    },
    {
     "name": "stderr",
     "output_type": "stream",
     "text": [
      "\n"
     ]
    }
   ],
   "source": [
    "class Args:\n",
    "    task_number = 5\n",
    "    epochs_per_task = 10\n",
    "    lr = 1.0e-4\n",
    "    batch_size = 128\n",
    "    test_size=8192\n",
    "\n",
    "args=Args()\n",
    "\n",
    "device = torch.device(\"cuda\" if torch.cuda.is_available() else \"cpu\")\n",
    "# 给每个task 生成旋转角度.\n",
    "angle_list = [20 * x for x in range(args.task_number)]\n",
    "# 准备5个Task: 不同旋转角度的 MNIST 数据集.\n",
    "train_datasets = [Data('data', angle=angle_list[index]) for index in range(args.task_number)]\n",
    "train_dataloaders = [DataLoader(data.dataset, batch_size=args.batch_size, shuffle=True) for data in train_datasets]\n",
    "\n",
    "test_datasets = [Data('data', train=False, angle=angle_list[index]) for index in range(args.task_number)]\n",
    "test_dataloaders = [DataLoader(data.dataset, batch_size=args.test_size, shuffle=True) for data in test_datasets]"
   ]
  },
  {
   "cell_type": "code",
   "execution_count": 6,
   "metadata": {},
   "outputs": [
    {
     "data": {
      "image/png": "[encoded data removed]",
      "text/plain": [
       "<Figure size 3000x1000 with 50 Axes>"
      ]
     },
     "metadata": {},
     "output_type": "display_data"
    }
   ],
   "source": [
    "# 分别绘制5个任务中的0-9图像\n",
    "sample = [Data('data', angle=angle_list[index]) for index in range(args.task_number)]\n",
    "\n",
    "plt.figure(figsize=(30, 10))\n",
    "for task in range(5):\n",
    "    target_list = []\n",
    "    cnt = 0\n",
    "    while (len(target_list) < 10):\n",
    "        img, target = sample[task].dataset[cnt]\n",
    "        cnt += 1\n",
    "        if target in target_list:\n",
    "            continue\n",
    "        else:\n",
    "            target_list.append(target)\n",
    "        plt.subplot(5, 10, (task)*10 + target + 1)\n",
    "        curr_img = np.reshape(img, (28, 28))\n",
    "        plt.matshow(curr_img, cmap=plt.get_cmap('gray'), fignum=False)\n",
    "        ax = plt.gca()\n",
    "        ax.axes.xaxis.set_ticks([])\n",
    "        ax.axes.yaxis.set_ticks([])\n",
    "        plt.title(\"task: \" + str(task+1) + \" \" + \"label: \" + str(target), y=1)"
   ]
  },
  {
   "attachments": {},
   "cell_type": "markdown",
   "metadata": {},
   "source": [
    "# Base Model"
   ]
  },
  {
   "cell_type": "code",
   "execution_count": 7,
   "metadata": {},
   "outputs": [
    {
     "name": "stdout",
     "output_type": "stream",
     "text": [
      "Model(\n",
      "  (fc1): Linear(in_features=784, out_features=1024, bias=True)\n",
      "  (fc2): Linear(in_features=1024, out_features=512, bias=True)\n",
      "  (fc3): Linear(in_features=512, out_features=256, bias=True)\n",
      "  (fc4): Linear(in_features=256, out_features=10, bias=True)\n",
      "  (relu): ReLU()\n",
      ")\n"
     ]
    }
   ],
   "source": [
    "class Model(nn.Module):\n",
    "    \"\"\"\n",
    "    Model architecture \n",
    "    1*28*28 (input) → 1024 → 512 → 256 → 10\n",
    "    \"\"\"\n",
    "    def __init__(self):\n",
    "        super(Model, self).__init__()\n",
    "        self.fc1 = nn.Linear(1*28*28, 1024)\n",
    "        self.fc2 = nn.Linear(1024, 512)\n",
    "        self.fc3 = nn.Linear(512, 256)\n",
    "        self.fc4 = nn.Linear(256, 10)\n",
    "        self.relu = nn.ReLU()\n",
    "\n",
    "    def forward(self, x):\n",
    "        x = x.view(-1, 1*28*28)\n",
    "        x = self.fc1(x)\n",
    "        x = self.relu(x)\n",
    "        x = self.fc2(x)\n",
    "        x = self.relu(x)\n",
    "        x = self.fc3(x)\n",
    "        x = self.relu(x)\n",
    "        x = self.fc4(x)\n",
    "        return x\n",
    "\n",
    "\n",
    "example = Model()\n",
    "print(example)"
   ]
  },
  {
   "attachments": {},
   "cell_type": "markdown",
   "metadata": {},
   "source": [
    "# Training Utils"
   ]
  },
  {
   "cell_type": "code",
   "execution_count": 16,
   "metadata": {},
   "outputs": [],
   "source": [
    "def train(model, optimizer, dataloader, epochs_per_task, lll_object, lll_lambda, test_dataloaders, evaluate, device, log_step=1):\n",
    "    model.train()\n",
    "    model.zero_grad()\n",
    "    objective = nn.CrossEntropyLoss()\n",
    "    acc_per_epoch = []\n",
    "    loss = 1.0\n",
    "    for epoch in range(epochs_per_task):\n",
    "        tr_bar = tqdm(dataloader, leave=False)\n",
    "        for imgs, labels in  tr_bar: \n",
    "            tr_bar.set_description(f\"[ Train | Epoch {epoch+1:02d}/{epochs_per_task:02d} ]\")\n",
    "            imgs, labels = imgs.to(device), labels.to(device)\n",
    "            outputs = model(imgs)\n",
    "            loss = objective(outputs, labels)\n",
    "            total_loss = loss\n",
    "            # ----------  正则化 ----------\n",
    "            lll_loss = lll_object.penalty(model)\n",
    "            total_loss += lll_lambda * lll_loss \n",
    "            # model update\n",
    "            lll_object.update(model)\n",
    "            # ----------------------------\n",
    "            optimizer.zero_grad()\n",
    "            total_loss.backward()\n",
    "            optimizer.step()\n",
    "\n",
    "            loss = total_loss.item()\n",
    "            tr_bar.set_postfix({\"Loss\": f\"{loss:.7f}\"})\n",
    "\n",
    "        acc_average  = []\n",
    "        for test_dataloader in test_dataloaders: \n",
    "            acc_test = evaluate(model, test_dataloader, device)\n",
    "            acc_average.append(acc_test)\n",
    "        average = np.mean(np.array(acc_average))\n",
    "        acc_per_epoch.append(average*100.0)\n",
    "        print(f\"[ Val | Epoch {epoch+1:02d}/{epochs_per_task:02d} ] acc={average*100:.3f} %\")\n",
    "    return model, optimizer, acc_per_epoch\n",
    "\n",
    "\n",
    "def evaluate(model, test_dataloader, device):\n",
    "    model.eval()\n",
    "    correct_cnt = 0\n",
    "    total = 0\n",
    "    for imgs, labels in test_dataloader:\n",
    "        imgs, labels = imgs.to(device), labels.to(device)\n",
    "        outputs = model(imgs)\n",
    "        _, pred_label = torch.max(outputs.data, 1)\n",
    "\n",
    "        correct_cnt += (pred_label == labels.data).sum().item()\n",
    "        total += torch.ones_like(labels.data).sum().item()\n",
    "    return correct_cnt / total"
   ]
  },
  {
   "attachments": {},
   "cell_type": "markdown",
   "metadata": {},
   "source": [
    "# AMS\n",
    "$$\\mathcal{L}_B = \\mathcal{L}(\\theta) + \\sum_{i} \\frac{\\lambda}{2} \\Omega_i (\\theta_{i} - \\theta_{A,i}^{*})^2$$\n",
    "\n",
    "$$\\Omega_i = || \\frac{\\partial \\ell_2^2(F(x_k; \\theta))}{\\partial \\theta_i} || $$ "
   ]
  },
  {
   "cell_type": "code",
   "execution_count": 17,
   "metadata": {},
   "outputs": [],
   "source": [
    "class mas(object):\n",
    "    \"\"\"\n",
    "    @article{aljundi2017memory,\n",
    "        title={Memory Aware Synapses: Learning what (not) to forget},\n",
    "        author={Aljundi, Rahaf and Babiloni, Francesca and Elhoseiny, Mohamed and Rohrbach, Marcus and Tuytelaars, Tinne},\n",
    "        booktitle={ECCV},\n",
    "        year={2018},\n",
    "        url={https://eccv2018.org/openaccess/content_ECCV_2018/papers/Rahaf_Aljundi_Memory_Aware_Synapses_ECCV_2018_paper.pdf}\n",
    "    }\n",
    "    \"\"\"\n",
    "    def __init__(self, model, dataloader, device, prev_guards=[None]):\n",
    "        self.model = model \n",
    "        self.dataloader = dataloader\n",
    "        # 提取模型全部参数\n",
    "        self.params = {n: p for n, p in self.model.named_parameters() if p.requires_grad} \n",
    "        # 参数初始化\n",
    "        self.p_old = {} \n",
    "        self.device = device\n",
    "        # 保存之前的 guards\n",
    "        self.previous_guards_list = prev_guards\n",
    "        # 生成 Omega(Ω) 矩阵\n",
    "        self._precision_matrices = self._calculate_importance() \n",
    "        for n, p in self.params.items():\n",
    "            # 保留原始数据 - 保存为不可导\n",
    "            self.p_old[n] = p.clone().detach()\n",
    "\n",
    "    def _calculate_importance(self):\n",
    "        out = {}\n",
    "        # 初始化 Omega(Ω) 矩阵（全部填充0）并加上之前的 guards\n",
    "        for n, p in self.params.items():\n",
    "            out[n] = p.clone().detach().fill_(0)\n",
    "            for prev_guard in self.previous_guards_list:\n",
    "                if prev_guard:\n",
    "                    out[n] += prev_guard[n]\n",
    "\n",
    "        self.model.eval()\n",
    "        if self.dataloader is not None:\n",
    "            number_data = len(self.dataloader)\n",
    "            for x, y in self.dataloader:\n",
    "                self.model.zero_grad()\n",
    "                x, y = x.to(self.device), y.to(self.device)\n",
    "                pred = self.model(x)\n",
    "                ##### 生成 Omega(Ω) 矩阵.  #####   \n",
    "                # 网络输出 L2范数平方的梯度\n",
    "                loss = torch.mean(torch.sum(pred ** 2, axis=1))\n",
    "                loss.backward()\n",
    "                for n, p in self.model.named_parameters():\n",
    "                    out[n].data += torch.sqrt(p.grad.data ** 2) / number_data\n",
    "\n",
    "        out = {n: p for n, p in out.items()}\n",
    "        return out\n",
    "\n",
    "    def penalty(self, model: nn.Module):\n",
    "        loss = 0\n",
    "        for n, p in model.named_parameters():\n",
    "            # 最终的正则项 =   Omega(Ω)权重 * 权重变化平方((p - self.p_old[n]) ** 2) \n",
    "            _loss = self._precision_matrices[n] * (p - self.p_old[n]) ** 2\n",
    "            loss += _loss.sum()\n",
    "        return loss\n",
    "  \n",
    "    def update(self, model):\n",
    "        return \n"
   ]
  },
  {
   "cell_type": "code",
   "execution_count": 18,
   "metadata": {},
   "outputs": [
    {
     "name": "stdout",
     "output_type": "stream",
     "text": [
      "RUN MAS\n"
     ]
    },
    {
     "name": "stderr",
     "output_type": "stream",
     "text": [
      "Task  01:   0%|          | 0/5 [00:00<?, ?it/s]"
     ]
    },
    {
     "name": "stdout",
     "output_type": "stream",
     "text": [
      "train_indexes=0\n",
      " --------------------------------------------------\n"
     ]
    },
    {
     "name": "stderr",
     "output_type": "stream",
     "text": []
    },
    {
     "name": "stdout",
     "output_type": "stream",
     "text": [
      "[ Val | Epoch 01/10 ] acc=92.230 %\n"
     ]
    },
    {
     "name": "stderr",
     "output_type": "stream",
     "text": []
    },
    {
     "name": "stdout",
     "output_type": "stream",
     "text": [
      "[ Val | Epoch 02/10 ] acc=94.350 %\n"
     ]
    },
    {
     "name": "stderr",
     "output_type": "stream",
     "text": []
    },
    {
     "name": "stdout",
     "output_type": "stream",
     "text": [
      "[ Val | Epoch 03/10 ] acc=95.540 %\n"
     ]
    },
    {
     "name": "stderr",
     "output_type": "stream",
     "text": []
    },
    {
     "name": "stdout",
     "output_type": "stream",
     "text": [
      "[ Val | Epoch 04/10 ] acc=96.450 %\n"
     ]
    },
    {
     "name": "stderr",
     "output_type": "stream",
     "text": []
    },
    {
     "name": "stdout",
     "output_type": "stream",
     "text": [
      "[ Val | Epoch 05/10 ] acc=96.720 %\n"
     ]
    },
    {
     "name": "stderr",
     "output_type": "stream",
     "text": []
    },
    {
     "name": "stdout",
     "output_type": "stream",
     "text": [
      "[ Val | Epoch 06/10 ] acc=97.070 %\n"
     ]
    },
    {
     "name": "stderr",
     "output_type": "stream",
     "text": []
    },
    {
     "name": "stdout",
     "output_type": "stream",
     "text": [
      "[ Val | Epoch 07/10 ] acc=97.280 %\n"
     ]
    },
    {
     "name": "stderr",
     "output_type": "stream",
     "text": []
    },
    {
     "name": "stdout",
     "output_type": "stream",
     "text": [
      "[ Val | Epoch 08/10 ] acc=97.690 %\n"
     ]
    },
    {
     "name": "stderr",
     "output_type": "stream",
     "text": []
    },
    {
     "name": "stdout",
     "output_type": "stream",
     "text": [
      "[ Val | Epoch 09/10 ] acc=97.720 %\n"
     ]
    },
    {
     "name": "stderr",
     "output_type": "stream",
     "text": []
    },
    {
     "name": "stdout",
     "output_type": "stream",
     "text": [
      "[ Val | Epoch 10/10 ] acc=97.880 %\n"
     ]
    },
    {
     "name": "stderr",
     "output_type": "stream",
     "text": [
      "Task  02:  20%|██        | 1/5 [01:13<04:52, 73.11s/it]"
     ]
    },
    {
     "name": "stdout",
     "output_type": "stream",
     "text": [
      "train_indexes=1\n",
      " --------------------------------------------------\n"
     ]
    },
    {
     "name": "stderr",
     "output_type": "stream",
     "text": []
    },
    {
     "name": "stdout",
     "output_type": "stream",
     "text": [
      "[ Val | Epoch 01/10 ] acc=95.855 %\n"
     ]
    },
    {
     "name": "stderr",
     "output_type": "stream",
     "text": []
    },
    {
     "name": "stdout",
     "output_type": "stream",
     "text": [
      "[ Val | Epoch 02/10 ] acc=96.185 %\n"
     ]
    },
    {
     "name": "stderr",
     "output_type": "stream",
     "text": []
    },
    {
     "name": "stdout",
     "output_type": "stream",
     "text": [
      "[ Val | Epoch 03/10 ] acc=95.660 %\n"
     ]
    },
    {
     "name": "stderr",
     "output_type": "stream",
     "text": []
    },
    {
     "name": "stdout",
     "output_type": "stream",
     "text": [
      "[ Val | Epoch 04/10 ] acc=96.245 %\n"
     ]
    },
    {
     "name": "stderr",
     "output_type": "stream",
     "text": []
    },
    {
     "name": "stdout",
     "output_type": "stream",
     "text": [
      "[ Val | Epoch 05/10 ] acc=96.315 %\n"
     ]
    },
    {
     "name": "stderr",
     "output_type": "stream",
     "text": []
    },
    {
     "name": "stdout",
     "output_type": "stream",
     "text": [
      "[ Val | Epoch 06/10 ] acc=96.255 %\n"
     ]
    },
    {
     "name": "stderr",
     "output_type": "stream",
     "text": []
    },
    {
     "name": "stdout",
     "output_type": "stream",
     "text": [
      "[ Val | Epoch 07/10 ] acc=96.280 %\n"
     ]
    },
    {
     "name": "stderr",
     "output_type": "stream",
     "text": []
    },
    {
     "name": "stdout",
     "output_type": "stream",
     "text": [
      "[ Val | Epoch 08/10 ] acc=95.975 %\n"
     ]
    },
    {
     "name": "stderr",
     "output_type": "stream",
     "text": []
    },
    {
     "name": "stdout",
     "output_type": "stream",
     "text": [
      "[ Val | Epoch 09/10 ] acc=95.970 %\n"
     ]
    },
    {
     "name": "stderr",
     "output_type": "stream",
     "text": []
    },
    {
     "name": "stdout",
     "output_type": "stream",
     "text": [
      "[ Val | Epoch 10/10 ] acc=95.790 %\n"
     ]
    },
    {
     "name": "stderr",
     "output_type": "stream",
     "text": [
      "Task  03:  40%|████      | 2/5 [02:33<03:52, 77.41s/it]"
     ]
    },
    {
     "name": "stdout",
     "output_type": "stream",
     "text": [
      "train_indexes=2\n",
      " --------------------------------------------------\n"
     ]
    },
    {
     "name": "stderr",
     "output_type": "stream",
     "text": []
    },
    {
     "name": "stdout",
     "output_type": "stream",
     "text": [
      "[ Val | Epoch 01/10 ] acc=93.097 %\n"
     ]
    },
    {
     "name": "stderr",
     "output_type": "stream",
     "text": []
    },
    {
     "name": "stdout",
     "output_type": "stream",
     "text": [
      "[ Val | Epoch 02/10 ] acc=92.283 %\n"
     ]
    },
    {
     "name": "stderr",
     "output_type": "stream",
     "text": []
    },
    {
     "name": "stdout",
     "output_type": "stream",
     "text": [
      "[ Val | Epoch 03/10 ] acc=91.993 %\n"
     ]
    },
    {
     "name": "stderr",
     "output_type": "stream",
     "text": []
    },
    {
     "name": "stdout",
     "output_type": "stream",
     "text": [
      "[ Val | Epoch 04/10 ] acc=92.147 %\n"
     ]
    },
    {
     "name": "stderr",
     "output_type": "stream",
     "text": []
    },
    {
     "name": "stdout",
     "output_type": "stream",
     "text": [
      "[ Val | Epoch 05/10 ] acc=92.990 %\n"
     ]
    },
    {
     "name": "stderr",
     "output_type": "stream",
     "text": []
    },
    {
     "name": "stdout",
     "output_type": "stream",
     "text": [
      "[ Val | Epoch 06/10 ] acc=93.263 %\n"
     ]
    },
    {
     "name": "stderr",
     "output_type": "stream",
     "text": []
    },
    {
     "name": "stdout",
     "output_type": "stream",
     "text": [
      "[ Val | Epoch 07/10 ] acc=92.477 %\n"
     ]
    },
    {
     "name": "stderr",
     "output_type": "stream",
     "text": []
    },
    {
     "name": "stdout",
     "output_type": "stream",
     "text": [
      "[ Val | Epoch 08/10 ] acc=92.490 %\n"
     ]
    },
    {
     "name": "stderr",
     "output_type": "stream",
     "text": []
    },
    {
     "name": "stdout",
     "output_type": "stream",
     "text": [
      "[ Val | Epoch 09/10 ] acc=92.087 %\n"
     ]
    },
    {
     "name": "stderr",
     "output_type": "stream",
     "text": []
    },
    {
     "name": "stdout",
     "output_type": "stream",
     "text": [
      "[ Val | Epoch 10/10 ] acc=92.247 %\n"
     ]
    },
    {
     "name": "stderr",
     "output_type": "stream",
     "text": [
      "Task  04:  60%|██████    | 3/5 [03:57<02:40, 80.36s/it]"
     ]
    },
    {
     "name": "stdout",
     "output_type": "stream",
     "text": [
      "train_indexes=3\n",
      " --------------------------------------------------\n"
     ]
    },
    {
     "name": "stderr",
     "output_type": "stream",
     "text": []
    },
    {
     "name": "stdout",
     "output_type": "stream",
     "text": [
      "[ Val | Epoch 01/10 ] acc=86.645 %\n"
     ]
    },
    {
     "name": "stderr",
     "output_type": "stream",
     "text": []
    },
    {
     "name": "stdout",
     "output_type": "stream",
     "text": [
      "[ Val | Epoch 02/10 ] acc=87.535 %\n"
     ]
    },
    {
     "name": "stderr",
     "output_type": "stream",
     "text": []
    },
    {
     "name": "stdout",
     "output_type": "stream",
     "text": [
      "[ Val | Epoch 03/10 ] acc=87.100 %\n"
     ]
    },
    {
     "name": "stderr",
     "output_type": "stream",
     "text": []
    },
    {
     "name": "stdout",
     "output_type": "stream",
     "text": [
      "[ Val | Epoch 04/10 ] acc=86.517 %\n"
     ]
    },
    {
     "name": "stderr",
     "output_type": "stream",
     "text": []
    },
    {
     "name": "stdout",
     "output_type": "stream",
     "text": [
      "[ Val | Epoch 05/10 ] acc=85.575 %\n"
     ]
    },
    {
     "name": "stderr",
     "output_type": "stream",
     "text": []
    },
    {
     "name": "stdout",
     "output_type": "stream",
     "text": [
      "[ Val | Epoch 06/10 ] acc=86.358 %\n"
     ]
    },
    {
     "name": "stderr",
     "output_type": "stream",
     "text": []
    },
    {
     "name": "stdout",
     "output_type": "stream",
     "text": [
      "[ Val | Epoch 07/10 ] acc=85.415 %\n"
     ]
    },
    {
     "name": "stderr",
     "output_type": "stream",
     "text": []
    },
    {
     "name": "stdout",
     "output_type": "stream",
     "text": [
      "[ Val | Epoch 08/10 ] acc=84.175 %\n"
     ]
    },
    {
     "name": "stderr",
     "output_type": "stream",
     "text": []
    },
    {
     "name": "stdout",
     "output_type": "stream",
     "text": [
      "[ Val | Epoch 09/10 ] acc=84.882 %\n"
     ]
    },
    {
     "name": "stderr",
     "output_type": "stream",
     "text": []
    },
    {
     "name": "stdout",
     "output_type": "stream",
     "text": [
      "[ Val | Epoch 10/10 ] acc=84.008 %\n"
     ]
    },
    {
     "name": "stderr",
     "output_type": "stream",
     "text": [
      "Task  05:  80%|████████  | 4/5 [05:28<01:24, 84.63s/it]"
     ]
    },
    {
     "name": "stdout",
     "output_type": "stream",
     "text": [
      "train_indexes=4\n",
      " --------------------------------------------------\n"
     ]
    },
    {
     "name": "stderr",
     "output_type": "stream",
     "text": []
    },
    {
     "name": "stdout",
     "output_type": "stream",
     "text": [
      "[ Val | Epoch 01/10 ] acc=79.780 %\n"
     ]
    },
    {
     "name": "stderr",
     "output_type": "stream",
     "text": []
    },
    {
     "name": "stdout",
     "output_type": "stream",
     "text": [
      "[ Val | Epoch 02/10 ] acc=80.092 %\n"
     ]
    },
    {
     "name": "stderr",
     "output_type": "stream",
     "text": []
    },
    {
     "name": "stdout",
     "output_type": "stream",
     "text": [
      "[ Val | Epoch 03/10 ] acc=80.506 %\n"
     ]
    },
    {
     "name": "stderr",
     "output_type": "stream",
     "text": []
    },
    {
     "name": "stdout",
     "output_type": "stream",
     "text": [
      "[ Val | Epoch 04/10 ] acc=79.602 %\n"
     ]
    },
    {
     "name": "stderr",
     "output_type": "stream",
     "text": []
    },
    {
     "name": "stdout",
     "output_type": "stream",
     "text": [
      "[ Val | Epoch 05/10 ] acc=80.876 %\n"
     ]
    },
    {
     "name": "stderr",
     "output_type": "stream",
     "text": []
    },
    {
     "name": "stdout",
     "output_type": "stream",
     "text": [
      "[ Val | Epoch 06/10 ] acc=79.934 %\n"
     ]
    },
    {
     "name": "stderr",
     "output_type": "stream",
     "text": []
    },
    {
     "name": "stdout",
     "output_type": "stream",
     "text": [
      "[ Val | Epoch 07/10 ] acc=80.986 %\n"
     ]
    },
    {
     "name": "stderr",
     "output_type": "stream",
     "text": []
    },
    {
     "name": "stdout",
     "output_type": "stream",
     "text": [
      "[ Val | Epoch 08/10 ] acc=81.374 %\n"
     ]
    },
    {
     "name": "stderr",
     "output_type": "stream",
     "text": []
    },
    {
     "name": "stdout",
     "output_type": "stream",
     "text": [
      "[ Val | Epoch 09/10 ] acc=80.460 %\n"
     ]
    },
    {
     "name": "stderr",
     "output_type": "stream",
     "text": []
    },
    {
     "name": "stdout",
     "output_type": "stream",
     "text": [
      "[ Val | Epoch 10/10 ] acc=80.016 %\n"
     ]
    },
    {
     "name": "stderr",
     "output_type": "stream",
     "text": [
      "Task  05: 100%|██████████| 5/5 [07:06<00:00, 85.37s/it]"
     ]
    },
    {
     "name": "stdout",
     "output_type": "stream",
     "text": [
      "[92.23, 94.35, 95.54, 96.45, 96.72, 97.07000000000001, 97.28, 97.69, 97.72, 97.88, 95.855, 96.185, 95.66, 96.245, 96.315, 96.255, 96.28000000000002, 95.975, 95.97, 95.78999999999999, 93.09666666666666, 92.28333333333333, 91.99333333333334, 92.14666666666668, 92.99, 93.26333333333334, 92.47666666666666, 92.49000000000001, 92.08666666666666, 92.24666666666667, 86.64500000000001, 87.53500000000001, 87.1, 86.5175, 85.575, 86.3575, 85.41499999999999, 84.175, 84.8825, 84.00750000000001, 79.78, 80.09200000000001, 80.50599999999999, 79.602, 80.87599999999998, 79.93400000000001, 80.98599999999999, 81.374, 80.46000000000001, 80.01599999999999]\n",
      "==================================================================================================\n"
     ]
    },
    {
     "name": "stderr",
     "output_type": "stream",
     "text": [
      "\n"
     ]
    }
   ],
   "source": [
    "# MAS\n",
    "print(\"RUN MAS\")\n",
    "model = Model()\n",
    "model = model.to(device)\n",
    "optimizer = torch.optim.Adam(model.parameters(), lr=args.lr)\n",
    "\n",
    "lll_object=mas(model=model, dataloader=None, device=device)\n",
    "lll_lambda=0.1\n",
    "mas_acc= []\n",
    "task_bar = tqdm(range(len(train_dataloaders)))\n",
    "prev_guards = []\n",
    "\n",
    "for train_indexes in task_bar:\n",
    "    task_bar.set_description(f\"Task  {train_indexes+1:02d}\")\n",
    "    print(f'train_indexes={train_indexes}\\n', '--'*25)\n",
    "    model, _, acc_list = train(model, optimizer, train_dataloaders[train_indexes], args.epochs_per_task, lll_object, lll_lambda, \n",
    "                               evaluate=evaluate,device=device, \n",
    "                               # 评估 所有训练过的task对应的test数据\n",
    "                               test_dataloaders=test_dataloaders[:train_indexes+1])\n",
    "\n",
    "    # 获取模型权重 并 计算每个权重的 mas-guidance权重\n",
    "    prev_guards.append(lll_object._precision_matrices)\n",
    "    lll_object=mas(model=model, dataloader=train_dataloaders[train_indexes], device=device, prev_guards=prev_guards)\n",
    "\n",
    "    # 使用新的优化器\n",
    "    optimizer = torch.optim.Adam(model.parameters(), lr=args.lr)\n",
    "    # 收集每个epoch的平均精度\n",
    "    mas_acc.extend(acc_list)\n",
    "\n",
    "\n",
    "print(mas_acc)\n",
    "print(\"==================================================================================================\")"
   ]
  },
  {
   "cell_type": "code",
   "execution_count": 19,
   "metadata": {},
   "outputs": [
    {
     "data": {
      "image/png": "[encoded data removed]",
      "text/plain": [
       "<Figure size 1600x400 with 1 Axes>"
      ]
     },
     "metadata": {},
     "output_type": "display_data"
    }
   ],
   "source": [
    "import matplotlib.pyplot as plt\n",
    "\n",
    "\n",
    "def draw_acc(acc_list, label_list):\n",
    "    plt.figure(figsize=(16, 4))\n",
    "    for idx, (acc, label) in enumerate(zip(acc_list, label_list)):\n",
    "        plt.plot(acc, marker='o', linestyle='--', linewidth=2, markersize=4, label=label)\n",
    "        \n",
    "    \n",
    "    for idx, x in enumerate(range(0, len(acc_list[0]), 10)):\n",
    "        plt.axvline(x=x, linestyle='--')\n",
    "        plt.text(x=x+5, y=100, s=f\"TASK-{idx+1}\", ha='center')\n",
    "    plt.savefig('acc_summary.png')\n",
    "    plt.title('acc_summary')\n",
    "    plt.ylim(60, 102)\n",
    "    plt.ylabel('ACC')\n",
    "    plt.legend()\n",
    "    plt.show() \n",
    "\n",
    "\n",
    "acc_list = [mas_acc]\n",
    "label_list = ['MAS']\n",
    "# acc_list = [  mas_acc, si_acc, rwalk_acc, scp_acc]\n",
    "# label_list = [  'MAS', 'SI', 'RWALK', 'SCP']\n",
    "draw_acc(acc_list, label_list)"
   ]
  },
  {
   "cell_type": "code",
   "execution_count": null,
   "metadata": {},
   "outputs": [],
   "source": []
  }
 ],
 "metadata": {
  "kernelspec": {
   "display_name": "stgcn_wave",
   "language": "python",
   "name": "python3"
  },
  "language_info": {
   "codemirror_mode": {
    "name": "ipython",
    "version": 3
   },
   "file_extension": ".py",
   "mimetype": "text/x-python",
   "name": "python",
   "nbconvert_exporter": "python",
   "pygments_lexer": "ipython3",
   "version": "3.8.17"
  },
  "orig_nbformat": 4
 },
 "nbformat": 4,
 "nbformat_minor": 2
}
